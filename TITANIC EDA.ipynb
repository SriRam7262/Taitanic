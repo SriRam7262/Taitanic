{
 "cells": [
  {
   "cell_type": "markdown",
   "id": "a1acf32d-242c-479c-ab69-3458fb4fcdd4",
   "metadata": {},
   "source": [
    "🎯 Objective\n",
    "Build a machine learning model to predict whether a passenger survived the Titanic disaster (Survived: 0 = No, 1 = Yes) using features such as age, sex, class, fare, and other relevant attributes from the dataset."
   ]
  },
  {
   "cell_type": "markdown",
   "id": "6668bbbb-70ae-4770-b8fa-c5c0c0102c40",
   "metadata": {},
   "source": [
    "This is a binary classification problem, and the goal is to learn patterns that distinguish survivors from non-survivors based on the available data."
   ]
  },
  {
   "cell_type": "raw",
   "id": "0bb0584b-1653-4825-a8e6-afca6fa71952",
   "metadata": {},
   "source": [
    "💡 key steps in a machine learning pipeline:\n",
    "------------------------------------------------\n",
    "Data cleaning --> Feature selection () --> Model selection --> Metrics"
   ]
  },
  {
   "cell_type": "markdown",
   "id": "7d99923a-76b3-4b0b-a290-e28d8b57231a",
   "metadata": {},
   "source": [
    "                                                               Dataset\n",
    "                                                                  |\n",
    "                                                              split data\n",
    "                                                            /            \\\n",
    "                                               Numerical_col              Categorical_col \n",
    "                                                 |                                     |\n",
    "                            IMPUTATION:---------MEDIAN ---  --------  ------- --  --- MODE     \n",
    "                                                 |                                     |                                              \n",
    "                     Feature Selection:-------Correlation  ---  --------  -----  --   Oneway ANNOVA / Chi-sqaure test\n",
    "                                                 |                                     |\n",
    "                                              Outliers(IQR)                           ENCODING(L, OH)\n",
    "                                                 |                                     |\n",
    "                                              SCALING(N,S)  _\n",
    "                                                              \\                        /\n",
    "                                                                 MERGE both NUM, CAT "
   ]
  },
  {
   "cell_type": "code",
   "execution_count": 914,
   "id": "d95c8dac-c241-45a8-8d4e-3f89ef2989d0",
   "metadata": {},
   "outputs": [],
   "source": [
    "import pandas as pd\n",
    "import numpy as np"
   ]
  },
  {
   "cell_type": "code",
   "execution_count": 915,
   "id": "de75156b-1366-4989-95f2-7b82987c5eca",
   "metadata": {},
   "outputs": [],
   "source": [
    "df=pd.read_csv(r\"C:\\Users\\NEELAM SUSHMITHA\\OneDrive\\Documents\\RAMANASOFT INTERNSHIP\\Titanic_train.csv.csv\")"
   ]
  },
  {
   "cell_type": "code",
   "execution_count": 916,
   "id": "1302863d-cfd5-4c60-b498-46c87ab7189d",
   "metadata": {},
   "outputs": [
    {
     "data": {
      "text/html": [
       "<div>\n",
       "<style scoped>\n",
       "    .dataframe tbody tr th:only-of-type {\n",
       "        vertical-align: middle;\n",
       "    }\n",
       "\n",
       "    .dataframe tbody tr th {\n",
       "        vertical-align: top;\n",
       "    }\n",
       "\n",
       "    .dataframe thead th {\n",
       "        text-align: right;\n",
       "    }\n",
       "</style>\n",
       "<table border=\"1\" class=\"dataframe\">\n",
       "  <thead>\n",
       "    <tr style=\"text-align: right;\">\n",
       "      <th></th>\n",
       "      <th>PassengerId</th>\n",
       "      <th>Survived</th>\n",
       "      <th>Pclass</th>\n",
       "      <th>Name</th>\n",
       "      <th>Sex</th>\n",
       "      <th>Age</th>\n",
       "      <th>SibSp</th>\n",
       "      <th>Parch</th>\n",
       "      <th>Ticket</th>\n",
       "      <th>Fare</th>\n",
       "      <th>Cabin</th>\n",
       "      <th>Embarked</th>\n",
       "    </tr>\n",
       "  </thead>\n",
       "  <tbody>\n",
       "    <tr>\n",
       "      <th>0</th>\n",
       "      <td>1</td>\n",
       "      <td>0</td>\n",
       "      <td>3</td>\n",
       "      <td>Braund, Mr. Owen Harris</td>\n",
       "      <td>male</td>\n",
       "      <td>22.0</td>\n",
       "      <td>1</td>\n",
       "      <td>0</td>\n",
       "      <td>A/5 21171</td>\n",
       "      <td>7.2500</td>\n",
       "      <td>NaN</td>\n",
       "      <td>S</td>\n",
       "    </tr>\n",
       "    <tr>\n",
       "      <th>1</th>\n",
       "      <td>2</td>\n",
       "      <td>1</td>\n",
       "      <td>1</td>\n",
       "      <td>Cumings, Mrs. John Bradley (Florence Briggs Th...</td>\n",
       "      <td>female</td>\n",
       "      <td>38.0</td>\n",
       "      <td>1</td>\n",
       "      <td>0</td>\n",
       "      <td>PC 17599</td>\n",
       "      <td>71.2833</td>\n",
       "      <td>C85</td>\n",
       "      <td>C</td>\n",
       "    </tr>\n",
       "    <tr>\n",
       "      <th>2</th>\n",
       "      <td>3</td>\n",
       "      <td>1</td>\n",
       "      <td>3</td>\n",
       "      <td>Heikkinen, Miss. Laina</td>\n",
       "      <td>female</td>\n",
       "      <td>26.0</td>\n",
       "      <td>0</td>\n",
       "      <td>0</td>\n",
       "      <td>STON/O2. 3101282</td>\n",
       "      <td>7.9250</td>\n",
       "      <td>NaN</td>\n",
       "      <td>S</td>\n",
       "    </tr>\n",
       "    <tr>\n",
       "      <th>3</th>\n",
       "      <td>4</td>\n",
       "      <td>1</td>\n",
       "      <td>1</td>\n",
       "      <td>Futrelle, Mrs. Jacques Heath (Lily May Peel)</td>\n",
       "      <td>female</td>\n",
       "      <td>35.0</td>\n",
       "      <td>1</td>\n",
       "      <td>0</td>\n",
       "      <td>113803</td>\n",
       "      <td>53.1000</td>\n",
       "      <td>C123</td>\n",
       "      <td>S</td>\n",
       "    </tr>\n",
       "    <tr>\n",
       "      <th>4</th>\n",
       "      <td>5</td>\n",
       "      <td>0</td>\n",
       "      <td>3</td>\n",
       "      <td>Allen, Mr. William Henry</td>\n",
       "      <td>male</td>\n",
       "      <td>35.0</td>\n",
       "      <td>0</td>\n",
       "      <td>0</td>\n",
       "      <td>373450</td>\n",
       "      <td>8.0500</td>\n",
       "      <td>NaN</td>\n",
       "      <td>S</td>\n",
       "    </tr>\n",
       "  </tbody>\n",
       "</table>\n",
       "</div>"
      ],
      "text/plain": [
       "   PassengerId  Survived  Pclass  \\\n",
       "0            1         0       3   \n",
       "1            2         1       1   \n",
       "2            3         1       3   \n",
       "3            4         1       1   \n",
       "4            5         0       3   \n",
       "\n",
       "                                                Name     Sex   Age  SibSp  \\\n",
       "0                            Braund, Mr. Owen Harris    male  22.0      1   \n",
       "1  Cumings, Mrs. John Bradley (Florence Briggs Th...  female  38.0      1   \n",
       "2                             Heikkinen, Miss. Laina  female  26.0      0   \n",
       "3       Futrelle, Mrs. Jacques Heath (Lily May Peel)  female  35.0      1   \n",
       "4                           Allen, Mr. William Henry    male  35.0      0   \n",
       "\n",
       "   Parch            Ticket     Fare Cabin Embarked  \n",
       "0      0         A/5 21171   7.2500   NaN        S  \n",
       "1      0          PC 17599  71.2833   C85        C  \n",
       "2      0  STON/O2. 3101282   7.9250   NaN        S  \n",
       "3      0            113803  53.1000  C123        S  \n",
       "4      0            373450   8.0500   NaN        S  "
      ]
     },
     "execution_count": 916,
     "metadata": {},
     "output_type": "execute_result"
    }
   ],
   "source": [
    "df.head()"
   ]
  },
  {
   "cell_type": "code",
   "execution_count": 917,
   "id": "f9aa57d3-6d8d-4d13-a54b-664d5a87573a",
   "metadata": {},
   "outputs": [
    {
     "data": {
      "text/html": [
       "<div>\n",
       "<style scoped>\n",
       "    .dataframe tbody tr th:only-of-type {\n",
       "        vertical-align: middle;\n",
       "    }\n",
       "\n",
       "    .dataframe tbody tr th {\n",
       "        vertical-align: top;\n",
       "    }\n",
       "\n",
       "    .dataframe thead th {\n",
       "        text-align: right;\n",
       "    }\n",
       "</style>\n",
       "<table border=\"1\" class=\"dataframe\">\n",
       "  <thead>\n",
       "    <tr style=\"text-align: right;\">\n",
       "      <th></th>\n",
       "      <th>PassengerId</th>\n",
       "      <th>Survived</th>\n",
       "      <th>Pclass</th>\n",
       "      <th>Name</th>\n",
       "      <th>Sex</th>\n",
       "      <th>Age</th>\n",
       "      <th>SibSp</th>\n",
       "      <th>Parch</th>\n",
       "      <th>Ticket</th>\n",
       "      <th>Fare</th>\n",
       "      <th>Cabin</th>\n",
       "      <th>Embarked</th>\n",
       "    </tr>\n",
       "  </thead>\n",
       "  <tbody>\n",
       "    <tr>\n",
       "      <th>886</th>\n",
       "      <td>887</td>\n",
       "      <td>0</td>\n",
       "      <td>2</td>\n",
       "      <td>Montvila, Rev. Juozas</td>\n",
       "      <td>male</td>\n",
       "      <td>27.0</td>\n",
       "      <td>0</td>\n",
       "      <td>0</td>\n",
       "      <td>211536</td>\n",
       "      <td>13.00</td>\n",
       "      <td>NaN</td>\n",
       "      <td>S</td>\n",
       "    </tr>\n",
       "    <tr>\n",
       "      <th>887</th>\n",
       "      <td>888</td>\n",
       "      <td>1</td>\n",
       "      <td>1</td>\n",
       "      <td>Graham, Miss. Margaret Edith</td>\n",
       "      <td>female</td>\n",
       "      <td>19.0</td>\n",
       "      <td>0</td>\n",
       "      <td>0</td>\n",
       "      <td>112053</td>\n",
       "      <td>30.00</td>\n",
       "      <td>B42</td>\n",
       "      <td>S</td>\n",
       "    </tr>\n",
       "    <tr>\n",
       "      <th>888</th>\n",
       "      <td>889</td>\n",
       "      <td>0</td>\n",
       "      <td>3</td>\n",
       "      <td>Johnston, Miss. Catherine Helen \"Carrie\"</td>\n",
       "      <td>female</td>\n",
       "      <td>NaN</td>\n",
       "      <td>1</td>\n",
       "      <td>2</td>\n",
       "      <td>W./C. 6607</td>\n",
       "      <td>23.45</td>\n",
       "      <td>NaN</td>\n",
       "      <td>S</td>\n",
       "    </tr>\n",
       "    <tr>\n",
       "      <th>889</th>\n",
       "      <td>890</td>\n",
       "      <td>1</td>\n",
       "      <td>1</td>\n",
       "      <td>Behr, Mr. Karl Howell</td>\n",
       "      <td>male</td>\n",
       "      <td>26.0</td>\n",
       "      <td>0</td>\n",
       "      <td>0</td>\n",
       "      <td>111369</td>\n",
       "      <td>30.00</td>\n",
       "      <td>C148</td>\n",
       "      <td>C</td>\n",
       "    </tr>\n",
       "    <tr>\n",
       "      <th>890</th>\n",
       "      <td>891</td>\n",
       "      <td>0</td>\n",
       "      <td>3</td>\n",
       "      <td>Dooley, Mr. Patrick</td>\n",
       "      <td>male</td>\n",
       "      <td>32.0</td>\n",
       "      <td>0</td>\n",
       "      <td>0</td>\n",
       "      <td>370376</td>\n",
       "      <td>7.75</td>\n",
       "      <td>NaN</td>\n",
       "      <td>Q</td>\n",
       "    </tr>\n",
       "  </tbody>\n",
       "</table>\n",
       "</div>"
      ],
      "text/plain": [
       "     PassengerId  Survived  Pclass                                      Name  \\\n",
       "886          887         0       2                     Montvila, Rev. Juozas   \n",
       "887          888         1       1              Graham, Miss. Margaret Edith   \n",
       "888          889         0       3  Johnston, Miss. Catherine Helen \"Carrie\"   \n",
       "889          890         1       1                     Behr, Mr. Karl Howell   \n",
       "890          891         0       3                       Dooley, Mr. Patrick   \n",
       "\n",
       "        Sex   Age  SibSp  Parch      Ticket   Fare Cabin Embarked  \n",
       "886    male  27.0      0      0      211536  13.00   NaN        S  \n",
       "887  female  19.0      0      0      112053  30.00   B42        S  \n",
       "888  female   NaN      1      2  W./C. 6607  23.45   NaN        S  \n",
       "889    male  26.0      0      0      111369  30.00  C148        C  \n",
       "890    male  32.0      0      0      370376   7.75   NaN        Q  "
      ]
     },
     "execution_count": 917,
     "metadata": {},
     "output_type": "execute_result"
    }
   ],
   "source": [
    "df.tail()"
   ]
  },
  {
   "cell_type": "code",
   "execution_count": 918,
   "id": "abe1192b-feba-453c-9bc8-0d2fa932f8f4",
   "metadata": {},
   "outputs": [
    {
     "data": {
      "text/plain": [
       "(891, 12)"
      ]
     },
     "execution_count": 918,
     "metadata": {},
     "output_type": "execute_result"
    }
   ],
   "source": [
    "df.shape"
   ]
  },
  {
   "cell_type": "code",
   "execution_count": 919,
   "id": "fa9c6ec5-5a05-43f2-af4e-2255833880ea",
   "metadata": {},
   "outputs": [
    {
     "data": {
      "text/plain": [
       "PassengerId      0\n",
       "Survived         0\n",
       "Pclass           0\n",
       "Name             0\n",
       "Sex              0\n",
       "Age            177\n",
       "SibSp            0\n",
       "Parch            0\n",
       "Ticket           0\n",
       "Fare             0\n",
       "Cabin          687\n",
       "Embarked         2\n",
       "dtype: int64"
      ]
     },
     "execution_count": 919,
     "metadata": {},
     "output_type": "execute_result"
    }
   ],
   "source": [
    "df.isnull().sum()"
   ]
  },
  {
   "cell_type": "code",
   "execution_count": 920,
   "id": "78f2ebe5-5206-456b-9f24-33c0986b7198",
   "metadata": {},
   "outputs": [
    {
     "data": {
      "text/html": [
       "<div>\n",
       "<style scoped>\n",
       "    .dataframe tbody tr th:only-of-type {\n",
       "        vertical-align: middle;\n",
       "    }\n",
       "\n",
       "    .dataframe tbody tr th {\n",
       "        vertical-align: top;\n",
       "    }\n",
       "\n",
       "    .dataframe thead th {\n",
       "        text-align: right;\n",
       "    }\n",
       "</style>\n",
       "<table border=\"1\" class=\"dataframe\">\n",
       "  <thead>\n",
       "    <tr style=\"text-align: right;\">\n",
       "      <th></th>\n",
       "      <th>PassengerId</th>\n",
       "      <th>Survived</th>\n",
       "      <th>Pclass</th>\n",
       "      <th>Age</th>\n",
       "      <th>SibSp</th>\n",
       "      <th>Parch</th>\n",
       "      <th>Fare</th>\n",
       "    </tr>\n",
       "  </thead>\n",
       "  <tbody>\n",
       "    <tr>\n",
       "      <th>count</th>\n",
       "      <td>891.000000</td>\n",
       "      <td>891.000000</td>\n",
       "      <td>891.000000</td>\n",
       "      <td>714.000000</td>\n",
       "      <td>891.000000</td>\n",
       "      <td>891.000000</td>\n",
       "      <td>891.000000</td>\n",
       "    </tr>\n",
       "    <tr>\n",
       "      <th>mean</th>\n",
       "      <td>446.000000</td>\n",
       "      <td>0.383838</td>\n",
       "      <td>2.308642</td>\n",
       "      <td>29.699118</td>\n",
       "      <td>0.523008</td>\n",
       "      <td>0.381594</td>\n",
       "      <td>32.204208</td>\n",
       "    </tr>\n",
       "    <tr>\n",
       "      <th>std</th>\n",
       "      <td>257.353842</td>\n",
       "      <td>0.486592</td>\n",
       "      <td>0.836071</td>\n",
       "      <td>14.526497</td>\n",
       "      <td>1.102743</td>\n",
       "      <td>0.806057</td>\n",
       "      <td>49.693429</td>\n",
       "    </tr>\n",
       "    <tr>\n",
       "      <th>min</th>\n",
       "      <td>1.000000</td>\n",
       "      <td>0.000000</td>\n",
       "      <td>1.000000</td>\n",
       "      <td>0.420000</td>\n",
       "      <td>0.000000</td>\n",
       "      <td>0.000000</td>\n",
       "      <td>0.000000</td>\n",
       "    </tr>\n",
       "    <tr>\n",
       "      <th>25%</th>\n",
       "      <td>223.500000</td>\n",
       "      <td>0.000000</td>\n",
       "      <td>2.000000</td>\n",
       "      <td>20.125000</td>\n",
       "      <td>0.000000</td>\n",
       "      <td>0.000000</td>\n",
       "      <td>7.910400</td>\n",
       "    </tr>\n",
       "    <tr>\n",
       "      <th>50%</th>\n",
       "      <td>446.000000</td>\n",
       "      <td>0.000000</td>\n",
       "      <td>3.000000</td>\n",
       "      <td>28.000000</td>\n",
       "      <td>0.000000</td>\n",
       "      <td>0.000000</td>\n",
       "      <td>14.454200</td>\n",
       "    </tr>\n",
       "    <tr>\n",
       "      <th>75%</th>\n",
       "      <td>668.500000</td>\n",
       "      <td>1.000000</td>\n",
       "      <td>3.000000</td>\n",
       "      <td>38.000000</td>\n",
       "      <td>1.000000</td>\n",
       "      <td>0.000000</td>\n",
       "      <td>31.000000</td>\n",
       "    </tr>\n",
       "    <tr>\n",
       "      <th>max</th>\n",
       "      <td>891.000000</td>\n",
       "      <td>1.000000</td>\n",
       "      <td>3.000000</td>\n",
       "      <td>80.000000</td>\n",
       "      <td>8.000000</td>\n",
       "      <td>6.000000</td>\n",
       "      <td>512.329200</td>\n",
       "    </tr>\n",
       "  </tbody>\n",
       "</table>\n",
       "</div>"
      ],
      "text/plain": [
       "       PassengerId    Survived      Pclass         Age       SibSp  \\\n",
       "count   891.000000  891.000000  891.000000  714.000000  891.000000   \n",
       "mean    446.000000    0.383838    2.308642   29.699118    0.523008   \n",
       "std     257.353842    0.486592    0.836071   14.526497    1.102743   \n",
       "min       1.000000    0.000000    1.000000    0.420000    0.000000   \n",
       "25%     223.500000    0.000000    2.000000   20.125000    0.000000   \n",
       "50%     446.000000    0.000000    3.000000   28.000000    0.000000   \n",
       "75%     668.500000    1.000000    3.000000   38.000000    1.000000   \n",
       "max     891.000000    1.000000    3.000000   80.000000    8.000000   \n",
       "\n",
       "            Parch        Fare  \n",
       "count  891.000000  891.000000  \n",
       "mean     0.381594   32.204208  \n",
       "std      0.806057   49.693429  \n",
       "min      0.000000    0.000000  \n",
       "25%      0.000000    7.910400  \n",
       "50%      0.000000   14.454200  \n",
       "75%      0.000000   31.000000  \n",
       "max      6.000000  512.329200  "
      ]
     },
     "execution_count": 920,
     "metadata": {},
     "output_type": "execute_result"
    }
   ],
   "source": [
    "df.describe()"
   ]
  },
  {
   "cell_type": "code",
   "execution_count": 921,
   "id": "6a9c8a17-95ba-4b5b-b0a7-1928c2de6eba",
   "metadata": {},
   "outputs": [
    {
     "data": {
      "text/html": [
       "<div>\n",
       "<style scoped>\n",
       "    .dataframe tbody tr th:only-of-type {\n",
       "        vertical-align: middle;\n",
       "    }\n",
       "\n",
       "    .dataframe tbody tr th {\n",
       "        vertical-align: top;\n",
       "    }\n",
       "\n",
       "    .dataframe thead th {\n",
       "        text-align: right;\n",
       "    }\n",
       "</style>\n",
       "<table border=\"1\" class=\"dataframe\">\n",
       "  <thead>\n",
       "    <tr style=\"text-align: right;\">\n",
       "      <th></th>\n",
       "      <th>Name</th>\n",
       "      <th>Sex</th>\n",
       "      <th>Ticket</th>\n",
       "      <th>Cabin</th>\n",
       "      <th>Embarked</th>\n",
       "    </tr>\n",
       "  </thead>\n",
       "  <tbody>\n",
       "    <tr>\n",
       "      <th>count</th>\n",
       "      <td>891</td>\n",
       "      <td>891</td>\n",
       "      <td>891</td>\n",
       "      <td>204</td>\n",
       "      <td>889</td>\n",
       "    </tr>\n",
       "    <tr>\n",
       "      <th>unique</th>\n",
       "      <td>891</td>\n",
       "      <td>2</td>\n",
       "      <td>681</td>\n",
       "      <td>147</td>\n",
       "      <td>3</td>\n",
       "    </tr>\n",
       "    <tr>\n",
       "      <th>top</th>\n",
       "      <td>Braund, Mr. Owen Harris</td>\n",
       "      <td>male</td>\n",
       "      <td>347082</td>\n",
       "      <td>B96 B98</td>\n",
       "      <td>S</td>\n",
       "    </tr>\n",
       "    <tr>\n",
       "      <th>freq</th>\n",
       "      <td>1</td>\n",
       "      <td>577</td>\n",
       "      <td>7</td>\n",
       "      <td>4</td>\n",
       "      <td>644</td>\n",
       "    </tr>\n",
       "  </tbody>\n",
       "</table>\n",
       "</div>"
      ],
      "text/plain": [
       "                           Name   Sex  Ticket    Cabin Embarked\n",
       "count                       891   891     891      204      889\n",
       "unique                      891     2     681      147        3\n",
       "top     Braund, Mr. Owen Harris  male  347082  B96 B98        S\n",
       "freq                          1   577       7        4      644"
      ]
     },
     "execution_count": 921,
     "metadata": {},
     "output_type": "execute_result"
    }
   ],
   "source": [
    "df.describe(include='object')"
   ]
  },
  {
   "cell_type": "code",
   "execution_count": 922,
   "id": "a93bbc3e-e127-41dc-a8d8-9c897d77bb34",
   "metadata": {},
   "outputs": [
    {
     "name": "stdout",
     "output_type": "stream",
     "text": [
      "<class 'pandas.core.frame.DataFrame'>\n",
      "RangeIndex: 891 entries, 0 to 890\n",
      "Data columns (total 12 columns):\n",
      " #   Column       Non-Null Count  Dtype  \n",
      "---  ------       --------------  -----  \n",
      " 0   PassengerId  891 non-null    int64  \n",
      " 1   Survived     891 non-null    int64  \n",
      " 2   Pclass       891 non-null    int64  \n",
      " 3   Name         891 non-null    object \n",
      " 4   Sex          891 non-null    object \n",
      " 5   Age          714 non-null    float64\n",
      " 6   SibSp        891 non-null    int64  \n",
      " 7   Parch        891 non-null    int64  \n",
      " 8   Ticket       891 non-null    object \n",
      " 9   Fare         891 non-null    float64\n",
      " 10  Cabin        204 non-null    object \n",
      " 11  Embarked     889 non-null    object \n",
      "dtypes: float64(2), int64(5), object(5)\n",
      "memory usage: 83.7+ KB\n"
     ]
    }
   ],
   "source": [
    "df.info()"
   ]
  },
  {
   "cell_type": "code",
   "execution_count": 923,
   "id": "53de6ca3-4552-488c-8d0c-053866fcae47",
   "metadata": {},
   "outputs": [
    {
     "data": {
      "text/plain": [
       "Index(['PassengerId', 'Survived', 'Pclass', 'Name', 'Sex', 'Age', 'SibSp',\n",
       "       'Parch', 'Ticket', 'Fare', 'Cabin', 'Embarked'],\n",
       "      dtype='object')"
      ]
     },
     "execution_count": 923,
     "metadata": {},
     "output_type": "execute_result"
    }
   ],
   "source": [
    "df.columns"
   ]
  },
  {
   "cell_type": "markdown",
   "id": "c3cec9ed-1f08-42e3-adc2-7f5bd155f716",
   "metadata": {},
   "source": [
    "--------------********Splitting data***********-------------\n",
    "==========================================================="
   ]
  },
  {
   "cell_type": "code",
   "execution_count": 924,
   "id": "ad47a868-84d8-4a55-ac69-af39f3a416ed",
   "metadata": {},
   "outputs": [],
   "source": [
    "df_num=df.select_dtypes(include=[np.number])"
   ]
  },
  {
   "cell_type": "code",
   "execution_count": 925,
   "id": "e781c0df-6e23-4117-b4dd-e24f5d9b349a",
   "metadata": {},
   "outputs": [
    {
     "data": {
      "text/plain": [
       "Index(['PassengerId', 'Survived', 'Pclass', 'Age', 'SibSp', 'Parch', 'Fare'], dtype='object')"
      ]
     },
     "execution_count": 925,
     "metadata": {},
     "output_type": "execute_result"
    }
   ],
   "source": [
    "df_num.columns"
   ]
  },
  {
   "cell_type": "code",
   "execution_count": 926,
   "id": "c19bc7c7-fc5e-4fc4-a8ad-479e13f76dff",
   "metadata": {},
   "outputs": [],
   "source": [
    "df_cat=df.select_dtypes(include='object')"
   ]
  },
  {
   "cell_type": "code",
   "execution_count": 927,
   "id": "60849749-83f1-491f-927a-73fc964a3c1f",
   "metadata": {},
   "outputs": [
    {
     "data": {
      "text/plain": [
       "Index(['Name', 'Sex', 'Ticket', 'Cabin', 'Embarked'], dtype='object')"
      ]
     },
     "execution_count": 927,
     "metadata": {},
     "output_type": "execute_result"
    }
   ],
   "source": [
    "df_cat.columns"
   ]
  },
  {
   "cell_type": "markdown",
   "id": "fc125dac-87bf-4d68-9764-164011ecdc0f",
   "metadata": {},
   "source": [
    "Missing values\n",
    "--------------"
   ]
  },
  {
   "cell_type": "code",
   "execution_count": 928,
   "id": "f9053370-0a18-4e56-9a3e-346064f6773d",
   "metadata": {},
   "outputs": [
    {
     "data": {
      "text/plain": [
       "Age            177\n",
       "PassengerId      0\n",
       "Survived         0\n",
       "Pclass           0\n",
       "SibSp            0\n",
       "Parch            0\n",
       "Fare             0\n",
       "dtype: int64"
      ]
     },
     "execution_count": 928,
     "metadata": {},
     "output_type": "execute_result"
    }
   ],
   "source": [
    "df_num.isnull().sum().sort_values(ascending=False)"
   ]
  },
  {
   "cell_type": "code",
   "execution_count": 929,
   "id": "3b6feb03-8665-4367-9d30-031d029692b3",
   "metadata": {},
   "outputs": [
    {
     "data": {
      "text/plain": [
       "Cabin       687\n",
       "Embarked      2\n",
       "Name          0\n",
       "Sex           0\n",
       "Ticket        0\n",
       "dtype: int64"
      ]
     },
     "execution_count": 929,
     "metadata": {},
     "output_type": "execute_result"
    }
   ],
   "source": [
    "df_cat.isnull().sum().sort_values(ascending=False)"
   ]
  },
  {
   "cell_type": "markdown",
   "id": "e8d78819-7fb0-4d4c-bf0e-283462f433f9",
   "metadata": {},
   "source": [
    "Imputations\n",
    "--------------"
   ]
  },
  {
   "cell_type": "code",
   "execution_count": 930,
   "id": "b1c1725f-c42e-41b1-9ab3-d6473a40b9bc",
   "metadata": {},
   "outputs": [],
   "source": [
    "df_num['Age'] = df_num['Age'].fillna(df_num['Age'].mean())    # filling missing values of Age column"
   ]
  },
  {
   "cell_type": "code",
   "execution_count": 931,
   "id": "37f772f8-698d-4aca-bc73-f3dc1ef58ca0",
   "metadata": {},
   "outputs": [],
   "source": [
    "df_cat['Embarked'] = df_cat['Embarked'].fillna(df_cat['Embarked'].mode()[0])     # filling missing values of Embarked column"
   ]
  },
  {
   "cell_type": "code",
   "execution_count": 932,
   "id": "1538be9b-a1e8-4a57-9cca-2cb9ca1aa1fb",
   "metadata": {},
   "outputs": [],
   "source": [
    "df_cat.drop('Cabin', axis=1, inplace=True)  # dropping Cabin column from df due more missing values "
   ]
  },
  {
   "cell_type": "markdown",
   "id": "7e3243e2-2268-4f44-9059-2b8f9d33143e",
   "metadata": {},
   "source": [
    "NOTE : Finally, null values are filled with imputation method\n",
    "       The Cabin feature has ~77% missing data, making it a strong candidate for removal due to insufficient information."
   ]
  },
  {
   "cell_type": "code",
   "execution_count": 933,
   "id": "7182d7a1-e10c-4ad9-ae4c-30fa18e53646",
   "metadata": {},
   "outputs": [
    {
     "data": {
      "text/plain": [
       "PassengerId    0\n",
       "Survived       0\n",
       "Pclass         0\n",
       "Age            0\n",
       "SibSp          0\n",
       "Parch          0\n",
       "Fare           0\n",
       "dtype: int64"
      ]
     },
     "execution_count": 933,
     "metadata": {},
     "output_type": "execute_result"
    }
   ],
   "source": [
    "df_num.isnull().sum()"
   ]
  },
  {
   "cell_type": "code",
   "execution_count": 934,
   "id": "5dba7958-9cee-4dd5-8c47-e1fd0b7c0e34",
   "metadata": {},
   "outputs": [
    {
     "data": {
      "text/plain": [
       "Name        0\n",
       "Sex         0\n",
       "Ticket      0\n",
       "Embarked    0\n",
       "dtype: int64"
      ]
     },
     "execution_count": 934,
     "metadata": {},
     "output_type": "execute_result"
    }
   ],
   "source": [
    "df_cat.isnull().sum()"
   ]
  },
  {
   "cell_type": "markdown",
   "id": "43213d05-c563-4949-a958-9ee4b4ec426e",
   "metadata": {},
   "source": [
    "**Numerical Feature selection*---Compute correlation with 'Survived'\n",
    "------------------------------"
   ]
  },
  {
   "cell_type": "code",
   "execution_count": 935,
   "id": "5569ffc4-830e-4acf-b681-9bb34ed70011",
   "metadata": {},
   "outputs": [],
   "source": [
    "import seaborn as sns\n",
    "import matplotlib.pyplot as plt"
   ]
  },
  {
   "cell_type": "code",
   "execution_count": 936,
   "id": "72ec566d-0d59-439e-9579-7b3ec8f97764",
   "metadata": {},
   "outputs": [],
   "source": [
    "df_num_corr=df_num.corr()"
   ]
  },
  {
   "cell_type": "code",
   "execution_count": 937,
   "id": "8cca943f-b933-423d-b872-d3058239f03c",
   "metadata": {},
   "outputs": [
    {
     "data": {
      "image/png": "[encoded data removed]",
      "text/plain": [
       "<Figure size 600x400 with 2 Axes>"
      ]
     },
     "metadata": {},
     "output_type": "display_data"
    }
   ],
   "source": [
    "plt.figure(figsize=(6,4))\n",
    "sns.heatmap(df_num_corr, annot=True, cmap='coolwarm', center=0)\n",
    "plt.title('Feature Correlation Heatmap')\n",
    "plt.show()"
   ]
  },
  {
   "cell_type": "code",
   "execution_count": 938,
   "id": "66e7f74b-c82c-4a5d-9e87-1cfa3d0647fe",
   "metadata": {},
   "outputs": [
    {
     "data": {
      "text/plain": [
       "<bound method Series.sort_values of PassengerId   -0.005007\n",
       "Survived       1.000000\n",
       "Pclass        -0.338481\n",
       "Age           -0.069809\n",
       "SibSp         -0.035322\n",
       "Parch          0.081629\n",
       "Fare           0.257307\n",
       "Name: Survived, dtype: float64>"
      ]
     },
     "execution_count": 938,
     "metadata": {},
     "output_type": "execute_result"
    }
   ],
   "source": [
    "df_num_corr[\"Survived\"].sort_values"
   ]
  },
  {
   "cell_type": "code",
   "execution_count": 939,
   "id": "a96fbbe1-4ec1-4445-93a7-61348afdc8f9",
   "metadata": {},
   "outputs": [
    {
     "data": {
      "text/plain": [
       "['Survived', 'Fare', 'Pclass']"
      ]
     },
     "execution_count": 939,
     "metadata": {},
     "output_type": "execute_result"
    }
   ],
   "source": [
    "df_num_cols = []\n",
    "df_num_cols.extend(df_num_corr[(df_num_corr[\"Survived\"]>0.2)].index.values)\n",
    "df_num_cols.extend(df_num_corr[(df_num_corr[\"Survived\"]<-0.2) ].index.values)\n",
    "df_num_cols"
   ]
  },
  {
   "cell_type": "code",
   "execution_count": 940,
   "id": "c9f39c4a-9f70-4237-8f0d-a39a72aded70",
   "metadata": {},
   "outputs": [
    {
     "name": "stderr",
     "output_type": "stream",
     "text": [
      "C:\\Users\\NEELAM SUSHMITHA\\AppData\\Local\\Temp\\ipykernel_14388\\1720995163.py:4: FutureWarning: \n",
      "\n",
      "Passing `palette` without assigning `hue` is deprecated and will be removed in v0.14.0. Assign the `y` variable to `hue` and set `legend=False` for the same effect.\n",
      "\n",
      "  sns.barplot(x=correlation_with_survived.values, y=correlation_with_survived.index, palette='coolwarm')\n"
     ]
    },
    {
     "data": {
      "image/png": "[encoded data removed]",
      "text/plain": [
       "<Figure size 1000x400 with 1 Axes>"
      ]
     },
     "metadata": {},
     "output_type": "display_data"
    }
   ],
   "source": [
    "correlation_with_survived = df_num.corr()['Survived'].sort_values()\n",
    "# Set up the plot\n",
    "plt.figure(figsize=(10,4))\n",
    "sns.barplot(x=correlation_with_survived.values, y=correlation_with_survived.index, palette='coolwarm')\n",
    "\n",
    "# Draw reference lines for interpretation\n",
    "plt.axvline(x=1, color='green', linestyle='--', label='+1: Perfect Positive')\n",
    "plt.axvline(x=0, color='gray', linestyle='--', label='0: No Correlation')\n",
    "plt.axvline(x=-1, color='red', linestyle='--', label='-1: Perfect Negative')\n",
    "\n",
    "# Add labels and title\n",
    "plt.title('Correlation of Numerical Features with Target (Survived)')\n",
    "plt.xlabel('Correlation Coefficient')\n",
    "plt.ylabel('Features')\n",
    "plt.legend(loc='lower left')\n",
    "plt.tight_layout()\n",
    "plt.show()"
   ]
  },
  {
   "cell_type": "code",
   "execution_count": 941,
   "id": "53e2d40d-7455-467c-a400-7282007d6ae5",
   "metadata": {},
   "outputs": [
    {
     "data": {
      "text/plain": [
       "Pclass  Sex     Survived\n",
       "1       female  0             3\n",
       "                1            91\n",
       "        male    0            77\n",
       "                1            45\n",
       "2       female  0             6\n",
       "                1            70\n",
       "        male    0            91\n",
       "                1            17\n",
       "3       female  0            72\n",
       "                1            72\n",
       "        male    0           300\n",
       "                1            47\n",
       "Name: Fare, dtype: int64"
      ]
     },
     "execution_count": 941,
     "metadata": {},
     "output_type": "execute_result"
    }
   ],
   "source": [
    "df.groupby(['Pclass', 'Sex', 'Survived'])['Fare'].count()"
   ]
  },
  {
   "cell_type": "code",
   "execution_count": 942,
   "id": "c90b336a-7115-4edd-97c6-c34c1b85d377",
   "metadata": {},
   "outputs": [
    {
     "name": "stdout",
     "output_type": "stream",
     "text": [
      "               Not Survived  Survived\n",
      "Pclass Sex                           \n",
      "1      female             3        91\n",
      "       male              77        45\n",
      "2      female             6        70\n",
      "       male              91        17\n",
      "3      female            72        72\n",
      "       male             300        47\n"
     ]
    }
   ],
   "source": [
    "# Pivot table: rows = Pclass & Sex, columns = Survived (0 or 1)\n",
    "pivot = df.pivot_table(index=['Pclass', 'Sex'], columns='Survived', values='Fare', aggfunc='count')\n",
    "\n",
    "pivot.columns = ['Not Survived', 'Survived']\n",
    "print(pivot)"
   ]
  },
  {
   "cell_type": "markdown",
   "id": "292059de-d912-4eb6-a81b-818aef5389f0",
   "metadata": {},
   "source": [
    "Outliers Treatment (IQR)\n",
    "------------------------"
   ]
  },
  {
   "cell_type": "code",
   "execution_count": 943,
   "id": "088f3fe5-a7ef-44d8-9bd0-4e32d6b27918",
   "metadata": {},
   "outputs": [],
   "source": [
    "def remove_outliers_iqr(df, columns):\n",
    "    for col in columns:\n",
    "        Q1 = df[col].quantile(0.25)  # First quartile (25th percentile)\n",
    "        Q3 = df[col].quantile(0.75)  # Third quartile (75th percentile)\n",
    "        IQR = Q3 - Q1               # Interquartile range\n",
    "        lower_bound = Q1 - 1.5 * IQR  # Lower bound\n",
    "        upper_bound = Q3 + 1.5 * IQR  # Upper bound\n",
    "\n",
    "        # Remove outliers\n",
    "        df = df[(df[col] >= lower_bound) & (df[col] <= upper_bound)]\n",
    "    \n",
    "    return df"
   ]
  },
  {
   "cell_type": "code",
   "execution_count": 944,
   "id": "c034a4b4-e5b9-4623-a988-23af24aab6e1",
   "metadata": {},
   "outputs": [],
   "source": [
    "columns_to_check = [\n",
    "    'PassengerId', 'Pclass', 'Age', 'SibSp', 'Parch', 'Fare'\n",
    "]"
   ]
  },
  {
   "cell_type": "code",
   "execution_count": 945,
   "id": "8cb10b52-7cec-4912-86eb-503147b5a566",
   "metadata": {},
   "outputs": [
    {
     "data": {
      "image/png": "[encoded data removed]",
      "text/plain": [
       "<Figure size 400x150 with 1 Axes>"
      ]
     },
     "metadata": {},
     "output_type": "display_data"
    },
    {
     "data": {
      "image/png": "[encoded data removed]",
      "text/plain": [
       "<Figure size 400x150 with 1 Axes>"
      ]
     },
     "metadata": {},
     "output_type": "display_data"
    },
    {
     "data": {
      "image/png": "[encoded data removed]",
      "text/plain": [
       "<Figure size 400x150 with 1 Axes>"
      ]
     },
     "metadata": {},
     "output_type": "display_data"
    },
    {
     "data": {
      "image/png": "[encoded data removed]",
      "text/plain": [
       "<Figure size 400x150 with 1 Axes>"
      ]
     },
     "metadata": {},
     "output_type": "display_data"
    },
    {
     "data": {
      "image/png": "[encoded data removed]",
      "text/plain": [
       "<Figure size 400x150 with 1 Axes>"
      ]
     },
     "metadata": {},
     "output_type": "display_data"
    },
    {
     "data": {
      "image/png": "[encoded data removed]",
      "text/plain": [
       "<Figure size 400x150 with 1 Axes>"
      ]
     },
     "metadata": {},
     "output_type": "display_data"
    }
   ],
   "source": [
    "# Boxplot (best for outliers):\n",
    "import seaborn as sns\n",
    "import matplotlib.pyplot as plt\n",
    "\n",
    "for col in columns_to_check:\n",
    "    plt.figure(figsize=(4, 1.5))\n",
    "    sns.boxplot(x=df_num[col], color='lightblue')\n",
    "    plt.title(f\"Boxplot of {col}\")\n",
    "    plt.tight_layout()\n",
    "    plt.show()\n"
   ]
  },
  {
   "cell_type": "markdown",
   "id": "a384104b-7b57-4d78-b34f-01c929fd28ee",
   "metadata": {},
   "source": [
    "we care most about features that affect the target (i.e., they have predictive power)"
   ]
  },
  {
   "cell_type": "code",
   "execution_count": 946,
   "id": "95fafc71-f22a-48ea-abbc-695ad64aeeb3",
   "metadata": {},
   "outputs": [
    {
     "name": "stdout",
     "output_type": "stream",
     "text": [
      "Original DataFrame:\n",
      "(891, 7)\n",
      "\n",
      "DataFrame after Outlier Treatment:\n",
      "(775, 7)\n"
     ]
    }
   ],
   "source": [
    "corr_col_to_check = ['Fare', 'Pclass']   #Highly correlated features (e.g., Pclass, Fare)  # Correlated features influence predictions \n",
    "                                                                                           ## Not all outliers are bad\n",
    "df_no_outliers = remove_outliers_iqr(df_num, corr_col_to_check)   # teating ouliers to correlated columns ## To reduce distortion in prediction\n",
    "\n",
    "print(\"Original DataFrame:\")\n",
    "\n",
    "\n",
    "print(df_num.shape)\n",
    "print(\"\\nDataFrame after Outlier Treatment:\")\n",
    "print(df_no_outliers.shape)"
   ]
  },
  {
   "cell_type": "markdown",
   "id": "37cd8bb1-c0e8-4006-a732-05ac6a3afd42",
   "metadata": {},
   "source": [
    " for Understanding outliers are perfromed indiviually to know the values eliminated  (SKIP)\n",
    "-------------------------------------------------------------------------------------"
   ]
  },
  {
   "cell_type": "code",
   "execution_count": 947,
   "id": "7cfce0bb-748b-43a6-9690-26fbe578715d",
   "metadata": {},
   "outputs": [
    {
     "name": "stdout",
     "output_type": "stream",
     "text": [
      "Q1 (25th percentile): 7.9104\n",
      "Q3 (75th percentile): 31.0\n",
      "IQR: 23.0896\n",
      "Lower bound: -26.724\n",
      "Upper bound: 65.6344\n"
     ]
    }
   ],
   "source": [
    "# Calculate Q1, Q3, IQR, and bounds\n",
    "\n",
    "Q1 = df_num['Fare'].quantile(0.25)\n",
    "Q3 = df_num['Fare'].quantile(0.75)\n",
    "IQR = Q3 - Q1\n",
    "lower_bound = Q1 - 1.5 * IQR\n",
    "upper_bound = Q3 + 1.5 * IQR\n",
    "\n",
    "print(f\"Q1 (25th percentile): {Q1}\")\n",
    "print(f\"Q3 (75th percentile): {Q3}\")\n",
    "print(f\"IQR: {IQR}\")\n",
    "print(f\"Lower bound: {lower_bound}\")\n",
    "print(f\"Upper bound: {upper_bound}\")\n"
   ]
  },
  {
   "cell_type": "code",
   "execution_count": 948,
   "id": "dbf55519-c6f4-4627-9b5c-9bb4f6994c63",
   "metadata": {},
   "outputs": [
    {
     "name": "stdout",
     "output_type": "stream",
     "text": [
      "Number of Fare and only outliers: 116\n"
     ]
    }
   ],
   "source": [
    "outliers = df_num[(df_num['Fare'] < lower_bound) | (df_num['Fare'] > upper_bound)]\n",
    "print(f\"Number of Fare and only outliers: {outliers.shape[0]}\")"
   ]
  },
  {
   "cell_type": "code",
   "execution_count": 949,
   "id": "9bfff54d-7597-4ff7-ba95-7b4d26842638",
   "metadata": {},
   "outputs": [
    {
     "data": {
      "image/png": "[encoded data removed]",
      "text/plain": [
       "<Figure size 500x300 with 1 Axes>"
      ]
     },
     "metadata": {},
     "output_type": "display_data"
    },
    {
     "data": {
      "image/png": "[encoded data removed]",
      "text/plain": [
       "<Figure size 500x300 with 1 Axes>"
      ]
     },
     "metadata": {},
     "output_type": "display_data"
    }
   ],
   "source": [
    "#Histogram (for distribution insight):\n",
    "import matplotlib.pyplot as plt\n",
    "import seaborn as sns\n",
    "\n",
    "for col in corr_col_to_check:\n",
    "    plt.figure(figsize=(5, 3))\n",
    "    sns.histplot(df_num[col], kde=True)\n",
    "    plt.title(f\"Histogram of {col}\")\n",
    "    plt.tight_layout()\n",
    "    plt.show()\n"
   ]
  },
  {
   "cell_type": "code",
   "execution_count": 950,
   "id": "8f352649-9215-480a-a6db-70cb2e5efcb4",
   "metadata": {},
   "outputs": [
    {
     "name": "stdout",
     "output_type": "stream",
     "text": [
      "Q1 (25th percentile): 2.0\n",
      "Q3 (75th percentile): 3.0\n",
      "IQR: 1.0\n",
      "Lower bound: 0.5\n",
      "Upper bound: 4.5\n"
     ]
    }
   ],
   "source": [
    "# Calculate Q1, Q3, IQR, and bounds\n",
    "Q1 = df_num['Pclass'].quantile(0.25)\n",
    "Q3 = df_num['Pclass'].quantile(0.75)\n",
    "IQR = Q3 - Q1\n",
    "lower_bound = Q1 - 1.5 * IQR\n",
    "upper_bound = Q3 + 1.5 * IQR\n",
    "\n",
    "print(f\"Q1 (25th percentile): {Q1}\")\n",
    "print(f\"Q3 (75th percentile): {Q3}\")\n",
    "print(f\"IQR: {IQR}\")\n",
    "print(f\"Lower bound: {lower_bound}\")\n",
    "print(f\"Upper bound: {upper_bound}\")\n"
   ]
  },
  {
   "cell_type": "code",
   "execution_count": 951,
   "id": "aa35e8a9-dbb5-4db9-86e9-13f6e344acc0",
   "metadata": {},
   "outputs": [
    {
     "name": "stdout",
     "output_type": "stream",
     "text": [
      "Number of Pclass outliers: 0\n"
     ]
    }
   ],
   "source": [
    "outliers = df_num[(df_num['Pclass'] < lower_bound) | (df_num['Pclass'] > upper_bound)]\n",
    "print(f\"Number of Pclass outliers: {outliers.shape[0]}\")"
   ]
  },
  {
   "cell_type": "code",
   "execution_count": 952,
   "id": "74d84388-8509-4c4d-a600-b49c147cd05c",
   "metadata": {},
   "outputs": [
    {
     "name": "stdout",
     "output_type": "stream",
     "text": [
      "Q1 (25th percentile): 22.0\n",
      "Q3 (75th percentile): 35.0\n",
      "IQR: 13.0\n",
      "Lower bound: 2.5\n",
      "Upper bound: 54.5\n"
     ]
    }
   ],
   "source": [
    "# Calculate Q1, Q3, IQR, and bounds\n",
    "Q1 = df_num['Age'].quantile(0.25)\n",
    "Q3 = df_num['Age'].quantile(0.75)\n",
    "IQR = Q3 - Q1\n",
    "lower_bound = Q1 - 1.5 * IQR\n",
    "upper_bound = Q3 + 1.5 * IQR\n",
    "\n",
    "print(f\"Q1 (25th percentile): {Q1}\")\n",
    "print(f\"Q3 (75th percentile): {Q3}\")\n",
    "print(f\"IQR: {IQR}\")\n",
    "print(f\"Lower bound: {lower_bound}\")\n",
    "print(f\"Upper bound: {upper_bound}\")\n"
   ]
  },
  {
   "cell_type": "code",
   "execution_count": 953,
   "id": "e9b350f3-f0f2-400e-88e8-fa829866d79f",
   "metadata": {},
   "outputs": [
    {
     "name": "stdout",
     "output_type": "stream",
     "text": [
      "Number of Age outliers: 66\n"
     ]
    }
   ],
   "source": [
    "outliers = df_num[(df_num['Age'] < lower_bound) | (df_num['Age'] > upper_bound)]\n",
    "print(f\"Number of Age outliers: {outliers.shape[0]}\")"
   ]
  },
  {
   "cell_type": "code",
   "execution_count": 954,
   "id": "487d1e83-0718-41cc-8c24-782623ef9674",
   "metadata": {},
   "outputs": [],
   "source": [
    "# i have 66 ouliers in my dataset i am igoring it has it is not high correlated columns it cause huge data redundancy"
   ]
  },
  {
   "cell_type": "code",
   "execution_count": 955,
   "id": "76d5b06d-0707-4c34-9c4a-64d2f1f73397",
   "metadata": {},
   "outputs": [
    {
     "name": "stdout",
     "output_type": "stream",
     "text": [
      "     PassengerId  Survived  Pclass        Age  SibSp  Parch     Fare\n",
      "0              1         0       3  22.000000      1      0   7.2500\n",
      "1              2         1       1  38.000000      1      0  71.2833\n",
      "2              3         1       3  26.000000      0      0   7.9250\n",
      "3              4         1       1  35.000000      1      0  53.1000\n",
      "4              5         0       3  35.000000      0      0   8.0500\n",
      "..           ...       ...     ...        ...    ...    ...      ...\n",
      "886          887         0       2  27.000000      0      0  13.0000\n",
      "887          888         1       1  19.000000      0      0  30.0000\n",
      "888          889         0       3  29.699118      1      2  23.4500\n",
      "889          890         1       1  26.000000      0      0  30.0000\n",
      "890          891         0       3  32.000000      0      0   7.7500\n",
      "\n",
      "[891 rows x 7 columns]\n"
     ]
    }
   ],
   "source": [
    "print(df_num)   # in this 1 row one deleted because fare price 71 > 65"
   ]
  },
  {
   "cell_type": "code",
   "execution_count": 956,
   "id": "9e0cc577-0c36-438f-bff9-e83f51c4035a",
   "metadata": {},
   "outputs": [
    {
     "name": "stdout",
     "output_type": "stream",
     "text": [
      "     PassengerId  Survived  Pclass        Age  SibSp  Parch     Fare\n",
      "0              1         0       3  22.000000      1      0   7.2500\n",
      "2              3         1       3  26.000000      0      0   7.9250\n",
      "3              4         1       1  35.000000      1      0  53.1000\n",
      "4              5         0       3  35.000000      0      0   8.0500\n",
      "5              6         0       3  29.699118      0      0   8.4583\n",
      "..           ...       ...     ...        ...    ...    ...      ...\n",
      "886          887         0       2  27.000000      0      0  13.0000\n",
      "887          888         1       1  19.000000      0      0  30.0000\n",
      "888          889         0       3  29.699118      1      2  23.4500\n",
      "889          890         1       1  26.000000      0      0  30.0000\n",
      "890          891         0       3  32.000000      0      0   7.7500\n",
      "\n",
      "[775 rows x 7 columns]\n"
     ]
    }
   ],
   "source": [
    "print(df_no_outliers)"
   ]
  },
  {
   "cell_type": "code",
   "execution_count": 957,
   "id": "6b1e0665-44e5-498f-b430-2ed871535a18",
   "metadata": {},
   "outputs": [
    {
     "data": {
      "text/plain": [
       "116"
      ]
     },
     "execution_count": 957,
     "metadata": {},
     "output_type": "execute_result"
    }
   ],
   "source": [
    "Rows_after_oulier_treatment = 891-775\n",
    "Rows_after_oulier_treatment"
   ]
  },
  {
   "cell_type": "code",
   "execution_count": 958,
   "id": "c51f05fc-fe33-4bef-9aee-a234bec5a1c8",
   "metadata": {},
   "outputs": [],
   "source": [
    "corr_col_to_check = ['Fare', 'Pclass']   #Highly correlated features (e.g., Pclass, Fare) "
   ]
  },
  {
   "cell_type": "markdown",
   "id": "157228c6-ad5a-4456-9ec3-a36c4ddd9686",
   "metadata": {},
   "source": [
    "Numerical Scaling*\n",
    "----------------"
   ]
  },
  {
   "cell_type": "code",
   "execution_count": 959,
   "id": "00d5c6a0-d01c-4cf0-94f6-653d3023ef3c",
   "metadata": {},
   "outputs": [],
   "source": [
    "corr_col_to_scale = ['Fare', 'Pclass']"
   ]
  },
  {
   "cell_type": "code",
   "execution_count": 960,
   "id": "a3543b8e-e831-424b-a75a-5505da53e2fb",
   "metadata": {},
   "outputs": [],
   "source": [
    "columns_to_scale = ['Fare']"
   ]
  },
  {
   "cell_type": "code",
   "execution_count": 961,
   "id": "d234e0ae-34d8-42ed-9ad4-0eb8492043d1",
   "metadata": {},
   "outputs": [],
   "source": [
    "from sklearn.preprocessing import StandardScaler"
   ]
  },
  {
   "cell_type": "code",
   "execution_count": 962,
   "id": "779e8e03-da02-4190-93df-5add5dc007ad",
   "metadata": {},
   "outputs": [],
   "source": [
    "standard_scaler = StandardScaler()\n",
    "df_standard_scaled = df_no_outliers.copy()\n",
    "df_standard_scaled[columns_to_scale] = standard_scaler.fit_transform(df_no_outliers[columns_to_scale])"
   ]
  },
  {
   "cell_type": "code",
   "execution_count": 963,
   "id": "2f7f4618-ccc7-46d4-9e13-11e1bf4257e8",
   "metadata": {},
   "outputs": [
    {
     "data": {
      "text/html": [
       "<div>\n",
       "<style scoped>\n",
       "    .dataframe tbody tr th:only-of-type {\n",
       "        vertical-align: middle;\n",
       "    }\n",
       "\n",
       "    .dataframe tbody tr th {\n",
       "        vertical-align: top;\n",
       "    }\n",
       "\n",
       "    .dataframe thead th {\n",
       "        text-align: right;\n",
       "    }\n",
       "</style>\n",
       "<table border=\"1\" class=\"dataframe\">\n",
       "  <thead>\n",
       "    <tr style=\"text-align: right;\">\n",
       "      <th></th>\n",
       "      <th>PassengerId</th>\n",
       "      <th>Survived</th>\n",
       "      <th>Pclass</th>\n",
       "      <th>Age</th>\n",
       "      <th>SibSp</th>\n",
       "      <th>Parch</th>\n",
       "      <th>Fare</th>\n",
       "    </tr>\n",
       "  </thead>\n",
       "  <tbody>\n",
       "    <tr>\n",
       "      <th>0</th>\n",
       "      <td>1</td>\n",
       "      <td>0</td>\n",
       "      <td>3</td>\n",
       "      <td>22.000000</td>\n",
       "      <td>1</td>\n",
       "      <td>0</td>\n",
       "      <td>-0.779117</td>\n",
       "    </tr>\n",
       "    <tr>\n",
       "      <th>2</th>\n",
       "      <td>3</td>\n",
       "      <td>1</td>\n",
       "      <td>3</td>\n",
       "      <td>26.000000</td>\n",
       "      <td>0</td>\n",
       "      <td>0</td>\n",
       "      <td>-0.729373</td>\n",
       "    </tr>\n",
       "    <tr>\n",
       "      <th>3</th>\n",
       "      <td>4</td>\n",
       "      <td>1</td>\n",
       "      <td>1</td>\n",
       "      <td>35.000000</td>\n",
       "      <td>1</td>\n",
       "      <td>0</td>\n",
       "      <td>2.599828</td>\n",
       "    </tr>\n",
       "    <tr>\n",
       "      <th>4</th>\n",
       "      <td>5</td>\n",
       "      <td>0</td>\n",
       "      <td>3</td>\n",
       "      <td>35.000000</td>\n",
       "      <td>0</td>\n",
       "      <td>0</td>\n",
       "      <td>-0.720161</td>\n",
       "    </tr>\n",
       "    <tr>\n",
       "      <th>5</th>\n",
       "      <td>6</td>\n",
       "      <td>0</td>\n",
       "      <td>3</td>\n",
       "      <td>29.699118</td>\n",
       "      <td>0</td>\n",
       "      <td>0</td>\n",
       "      <td>-0.690071</td>\n",
       "    </tr>\n",
       "  </tbody>\n",
       "</table>\n",
       "</div>"
      ],
      "text/plain": [
       "   PassengerId  Survived  Pclass        Age  SibSp  Parch      Fare\n",
       "0            1         0       3  22.000000      1      0 -0.779117\n",
       "2            3         1       3  26.000000      0      0 -0.729373\n",
       "3            4         1       1  35.000000      1      0  2.599828\n",
       "4            5         0       3  35.000000      0      0 -0.720161\n",
       "5            6         0       3  29.699118      0      0 -0.690071"
      ]
     },
     "execution_count": 963,
     "metadata": {},
     "output_type": "execute_result"
    }
   ],
   "source": [
    "df_standard_scaled.head()"
   ]
  },
  {
   "cell_type": "raw",
   "id": "6e81b6be-4f7c-4023-9c31-9959795b08bc",
   "metadata": {},
   "source": [
    "\"The Fare column was observed to be approximately normally distributed after outlier removal, as shown by the histogram\" "
   ]
  },
  {
   "cell_type": "markdown",
   "id": "05d86b12-da5a-45f4-af17-4b48abfde748",
   "metadata": {},
   "source": [
    "Pclass Numerical columns has an Ordinal Categorical Variable i.e.,rank/order (1 = 1st class, 3 = 3rd class), not a continuous numeric feature.\n",
    "To perform Scaling because these numeric values are labels, not measurements."
   ]
  },
  {
   "cell_type": "code",
   "execution_count": 964,
   "id": "2fb5848c-1972-450b-8c63-b8738b1a4307",
   "metadata": {},
   "outputs": [],
   "source": [
    "df_cat1=pd.concat([df_cat,pd.DataFrame(df_num['Survived'])],axis=1)"
   ]
  },
  {
   "cell_type": "code",
   "execution_count": 965,
   "id": "03f4ced0-d944-49bb-8516-2a3462525675",
   "metadata": {},
   "outputs": [
    {
     "data": {
      "text/html": [
       "<div>\n",
       "<style scoped>\n",
       "    .dataframe tbody tr th:only-of-type {\n",
       "        vertical-align: middle;\n",
       "    }\n",
       "\n",
       "    .dataframe tbody tr th {\n",
       "        vertical-align: top;\n",
       "    }\n",
       "\n",
       "    .dataframe thead th {\n",
       "        text-align: right;\n",
       "    }\n",
       "</style>\n",
       "<table border=\"1\" class=\"dataframe\">\n",
       "  <thead>\n",
       "    <tr style=\"text-align: right;\">\n",
       "      <th></th>\n",
       "      <th>Name</th>\n",
       "      <th>Sex</th>\n",
       "      <th>Ticket</th>\n",
       "      <th>Embarked</th>\n",
       "      <th>Survived</th>\n",
       "    </tr>\n",
       "  </thead>\n",
       "  <tbody>\n",
       "    <tr>\n",
       "      <th>0</th>\n",
       "      <td>Braund, Mr. Owen Harris</td>\n",
       "      <td>male</td>\n",
       "      <td>A/5 21171</td>\n",
       "      <td>S</td>\n",
       "      <td>0</td>\n",
       "    </tr>\n",
       "    <tr>\n",
       "      <th>1</th>\n",
       "      <td>Cumings, Mrs. John Bradley (Florence Briggs Th...</td>\n",
       "      <td>female</td>\n",
       "      <td>PC 17599</td>\n",
       "      <td>C</td>\n",
       "      <td>1</td>\n",
       "    </tr>\n",
       "    <tr>\n",
       "      <th>2</th>\n",
       "      <td>Heikkinen, Miss. Laina</td>\n",
       "      <td>female</td>\n",
       "      <td>STON/O2. 3101282</td>\n",
       "      <td>S</td>\n",
       "      <td>1</td>\n",
       "    </tr>\n",
       "    <tr>\n",
       "      <th>3</th>\n",
       "      <td>Futrelle, Mrs. Jacques Heath (Lily May Peel)</td>\n",
       "      <td>female</td>\n",
       "      <td>113803</td>\n",
       "      <td>S</td>\n",
       "      <td>1</td>\n",
       "    </tr>\n",
       "    <tr>\n",
       "      <th>4</th>\n",
       "      <td>Allen, Mr. William Henry</td>\n",
       "      <td>male</td>\n",
       "      <td>373450</td>\n",
       "      <td>S</td>\n",
       "      <td>0</td>\n",
       "    </tr>\n",
       "    <tr>\n",
       "      <th>...</th>\n",
       "      <td>...</td>\n",
       "      <td>...</td>\n",
       "      <td>...</td>\n",
       "      <td>...</td>\n",
       "      <td>...</td>\n",
       "    </tr>\n",
       "    <tr>\n",
       "      <th>886</th>\n",
       "      <td>Montvila, Rev. Juozas</td>\n",
       "      <td>male</td>\n",
       "      <td>211536</td>\n",
       "      <td>S</td>\n",
       "      <td>0</td>\n",
       "    </tr>\n",
       "    <tr>\n",
       "      <th>887</th>\n",
       "      <td>Graham, Miss. Margaret Edith</td>\n",
       "      <td>female</td>\n",
       "      <td>112053</td>\n",
       "      <td>S</td>\n",
       "      <td>1</td>\n",
       "    </tr>\n",
       "    <tr>\n",
       "      <th>888</th>\n",
       "      <td>Johnston, Miss. Catherine Helen \"Carrie\"</td>\n",
       "      <td>female</td>\n",
       "      <td>W./C. 6607</td>\n",
       "      <td>S</td>\n",
       "      <td>0</td>\n",
       "    </tr>\n",
       "    <tr>\n",
       "      <th>889</th>\n",
       "      <td>Behr, Mr. Karl Howell</td>\n",
       "      <td>male</td>\n",
       "      <td>111369</td>\n",
       "      <td>C</td>\n",
       "      <td>1</td>\n",
       "    </tr>\n",
       "    <tr>\n",
       "      <th>890</th>\n",
       "      <td>Dooley, Mr. Patrick</td>\n",
       "      <td>male</td>\n",
       "      <td>370376</td>\n",
       "      <td>Q</td>\n",
       "      <td>0</td>\n",
       "    </tr>\n",
       "  </tbody>\n",
       "</table>\n",
       "<p>891 rows × 5 columns</p>\n",
       "</div>"
      ],
      "text/plain": [
       "                                                  Name     Sex  \\\n",
       "0                              Braund, Mr. Owen Harris    male   \n",
       "1    Cumings, Mrs. John Bradley (Florence Briggs Th...  female   \n",
       "2                               Heikkinen, Miss. Laina  female   \n",
       "3         Futrelle, Mrs. Jacques Heath (Lily May Peel)  female   \n",
       "4                             Allen, Mr. William Henry    male   \n",
       "..                                                 ...     ...   \n",
       "886                              Montvila, Rev. Juozas    male   \n",
       "887                       Graham, Miss. Margaret Edith  female   \n",
       "888           Johnston, Miss. Catherine Helen \"Carrie\"  female   \n",
       "889                              Behr, Mr. Karl Howell    male   \n",
       "890                                Dooley, Mr. Patrick    male   \n",
       "\n",
       "               Ticket Embarked  Survived  \n",
       "0           A/5 21171        S         0  \n",
       "1            PC 17599        C         1  \n",
       "2    STON/O2. 3101282        S         1  \n",
       "3              113803        S         1  \n",
       "4              373450        S         0  \n",
       "..                ...      ...       ...  \n",
       "886            211536        S         0  \n",
       "887            112053        S         1  \n",
       "888        W./C. 6607        S         0  \n",
       "889            111369        C         1  \n",
       "890            370376        Q         0  \n",
       "\n",
       "[891 rows x 5 columns]"
      ]
     },
     "execution_count": 965,
     "metadata": {},
     "output_type": "execute_result"
    }
   ],
   "source": [
    "df_cat1"
   ]
  },
  {
   "cell_type": "code",
   "execution_count": 966,
   "id": "f40447f0-e10e-486d-b216-de4bf6dcd03f",
   "metadata": {},
   "outputs": [],
   "source": [
    "df_num.drop(['Survived'],axis=1,inplace=True)"
   ]
  },
  {
   "cell_type": "code",
   "execution_count": 967,
   "id": "b6bafb74-aea1-4b33-8006-d60b2b63eee0",
   "metadata": {},
   "outputs": [
    {
     "data": {
      "text/html": [
       "<div>\n",
       "<style scoped>\n",
       "    .dataframe tbody tr th:only-of-type {\n",
       "        vertical-align: middle;\n",
       "    }\n",
       "\n",
       "    .dataframe tbody tr th {\n",
       "        vertical-align: top;\n",
       "    }\n",
       "\n",
       "    .dataframe thead th {\n",
       "        text-align: right;\n",
       "    }\n",
       "</style>\n",
       "<table border=\"1\" class=\"dataframe\">\n",
       "  <thead>\n",
       "    <tr style=\"text-align: right;\">\n",
       "      <th></th>\n",
       "      <th>PassengerId</th>\n",
       "      <th>Pclass</th>\n",
       "      <th>Age</th>\n",
       "      <th>SibSp</th>\n",
       "      <th>Parch</th>\n",
       "      <th>Fare</th>\n",
       "    </tr>\n",
       "  </thead>\n",
       "  <tbody>\n",
       "    <tr>\n",
       "      <th>0</th>\n",
       "      <td>1</td>\n",
       "      <td>3</td>\n",
       "      <td>22.000000</td>\n",
       "      <td>1</td>\n",
       "      <td>0</td>\n",
       "      <td>7.2500</td>\n",
       "    </tr>\n",
       "    <tr>\n",
       "      <th>1</th>\n",
       "      <td>2</td>\n",
       "      <td>1</td>\n",
       "      <td>38.000000</td>\n",
       "      <td>1</td>\n",
       "      <td>0</td>\n",
       "      <td>71.2833</td>\n",
       "    </tr>\n",
       "    <tr>\n",
       "      <th>2</th>\n",
       "      <td>3</td>\n",
       "      <td>3</td>\n",
       "      <td>26.000000</td>\n",
       "      <td>0</td>\n",
       "      <td>0</td>\n",
       "      <td>7.9250</td>\n",
       "    </tr>\n",
       "    <tr>\n",
       "      <th>3</th>\n",
       "      <td>4</td>\n",
       "      <td>1</td>\n",
       "      <td>35.000000</td>\n",
       "      <td>1</td>\n",
       "      <td>0</td>\n",
       "      <td>53.1000</td>\n",
       "    </tr>\n",
       "    <tr>\n",
       "      <th>4</th>\n",
       "      <td>5</td>\n",
       "      <td>3</td>\n",
       "      <td>35.000000</td>\n",
       "      <td>0</td>\n",
       "      <td>0</td>\n",
       "      <td>8.0500</td>\n",
       "    </tr>\n",
       "    <tr>\n",
       "      <th>...</th>\n",
       "      <td>...</td>\n",
       "      <td>...</td>\n",
       "      <td>...</td>\n",
       "      <td>...</td>\n",
       "      <td>...</td>\n",
       "      <td>...</td>\n",
       "    </tr>\n",
       "    <tr>\n",
       "      <th>886</th>\n",
       "      <td>887</td>\n",
       "      <td>2</td>\n",
       "      <td>27.000000</td>\n",
       "      <td>0</td>\n",
       "      <td>0</td>\n",
       "      <td>13.0000</td>\n",
       "    </tr>\n",
       "    <tr>\n",
       "      <th>887</th>\n",
       "      <td>888</td>\n",
       "      <td>1</td>\n",
       "      <td>19.000000</td>\n",
       "      <td>0</td>\n",
       "      <td>0</td>\n",
       "      <td>30.0000</td>\n",
       "    </tr>\n",
       "    <tr>\n",
       "      <th>888</th>\n",
       "      <td>889</td>\n",
       "      <td>3</td>\n",
       "      <td>29.699118</td>\n",
       "      <td>1</td>\n",
       "      <td>2</td>\n",
       "      <td>23.4500</td>\n",
       "    </tr>\n",
       "    <tr>\n",
       "      <th>889</th>\n",
       "      <td>890</td>\n",
       "      <td>1</td>\n",
       "      <td>26.000000</td>\n",
       "      <td>0</td>\n",
       "      <td>0</td>\n",
       "      <td>30.0000</td>\n",
       "    </tr>\n",
       "    <tr>\n",
       "      <th>890</th>\n",
       "      <td>891</td>\n",
       "      <td>3</td>\n",
       "      <td>32.000000</td>\n",
       "      <td>0</td>\n",
       "      <td>0</td>\n",
       "      <td>7.7500</td>\n",
       "    </tr>\n",
       "  </tbody>\n",
       "</table>\n",
       "<p>891 rows × 6 columns</p>\n",
       "</div>"
      ],
      "text/plain": [
       "     PassengerId  Pclass        Age  SibSp  Parch     Fare\n",
       "0              1       3  22.000000      1      0   7.2500\n",
       "1              2       1  38.000000      1      0  71.2833\n",
       "2              3       3  26.000000      0      0   7.9250\n",
       "3              4       1  35.000000      1      0  53.1000\n",
       "4              5       3  35.000000      0      0   8.0500\n",
       "..           ...     ...        ...    ...    ...      ...\n",
       "886          887       2  27.000000      0      0  13.0000\n",
       "887          888       1  19.000000      0      0  30.0000\n",
       "888          889       3  29.699118      1      2  23.4500\n",
       "889          890       1  26.000000      0      0  30.0000\n",
       "890          891       3  32.000000      0      0   7.7500\n",
       "\n",
       "[891 rows x 6 columns]"
      ]
     },
     "execution_count": 967,
     "metadata": {},
     "output_type": "execute_result"
    }
   ],
   "source": [
    "df_num"
   ]
  },
  {
   "cell_type": "markdown",
   "id": "e742ac77-1c0c-415e-a088-8198afe3d219",
   "metadata": {},
   "source": [
    "Categorical feature selection\n",
    "------------------------------"
   ]
  },
  {
   "cell_type": "markdown",
   "id": "a23214a8-6b34-4023-9af0-0011857610ad",
   "metadata": {},
   "source": [
    "The Chi-square test (chi2_contingency in Python) helps us test whether two categorical variables are independent, or related.\n",
    "\n",
    "❌Null Hypothesis (H₀): The two variables are dependent (relationship).\n",
    "\n",
    "                  (H₀): p-value < 0.05 → Reject H₀ → There is a relationship between the variables \n",
    "\n",
    "✅Alternate Hypothesis (H₁): The two variables are independent (no relationship).\n",
    "\n",
    "                  (H₁): p-value ≥ 0.05 → Fail to reject H₀ → Variables are independent"
   ]
  },
  {
   "cell_type": "code",
   "execution_count": 968,
   "id": "60fc9fa7-7aee-4f9f-b919-a408dc70b746",
   "metadata": {},
   "outputs": [
    {
     "data": {
      "text/plain": [
       "Index(['Name', 'Sex', 'Ticket', 'Embarked', 'Survived'], dtype='object')"
      ]
     },
     "execution_count": 968,
     "metadata": {},
     "output_type": "execute_result"
    }
   ],
   "source": [
    "df_cat1.columns"
   ]
  },
  {
   "cell_type": "code",
   "execution_count": 969,
   "id": "cfd394d6-4da7-4e8c-a9f2-156d776e0e9b",
   "metadata": {},
   "outputs": [
    {
     "data": {
      "text/plain": [
       "Index(['Name', 'Sex', 'Ticket', 'Embarked'], dtype='object')"
      ]
     },
     "execution_count": 969,
     "metadata": {},
     "output_type": "execute_result"
    }
   ],
   "source": [
    "df_cat.columns"
   ]
  },
  {
   "cell_type": "code",
   "execution_count": 970,
   "id": "1a08b873-7818-45a8-b00d-492d9b68488f",
   "metadata": {},
   "outputs": [
    {
     "name": "stdout",
     "output_type": "stream",
     "text": [
      "Name: p-value = 0.484248151973633\n",
      "Sex: p-value = 1.1973570627755645e-58\n",
      "Ticket: p-value = 0.011527296011637747\n",
      "Embarked: p-value = 1.769922284120912e-06\n"
     ]
    }
   ],
   "source": [
    "from scipy.stats import chi2_contingency\n",
    "for col in df_cat:\n",
    "    contingency = pd.crosstab(df[col], df['Survived'])\n",
    "    chi2, p, dof, expected = chi2_contingency(contingency)\n",
    "    print(f\"{col}: p-value = {p}\")"
   ]
  },
  {
   "cell_type": "markdown",
   "id": "fd912d01-74dc-49b0-a358-72de1db95e39",
   "metadata": {},
   "source": [
    "| **Variable** | **p-value**  | **Statistical Significance**  | **Interpretation**                                           |\n",
    "| ------------ | ------------ | ----------------------------  |  ------------------------------------------------------------|\n",
    "| **Name**     | 0.484        | ❌ Significant (calculation)  | It is in string and more unique name               |\n",
    "| **Sex**      | 1.19 × 10⁻⁵⁸ | ✅ Very Strongly Significant  | Strong association with survival (Sex matters a lot)         |\n",
    "| **Ticket**   | 0.0115       | ❌  InSignificant             | No  association with survival                               |\n",
    "| **Embarked** | 1.77 × 10⁻⁶  | ✅ Strongly Significant       |Strong association with survival (boarding location matters)  |\n"
   ]
  },
  {
   "cell_type": "raw",
   "id": "c6099a17-8fae-455d-a35b-91c7434bd0b8",
   "metadata": {},
   "source": [
    "## But in this the title are mentioned. we get to know like female is married or not and male are called master(may be elders) and also we get to know professions  and get Caption and crew mems of the ship. so that we could extract the only civilians male and female and also we can also extract detailed data by seperating by class etc..,"
   ]
  },
  {
   "cell_type": "code",
   "execution_count": 971,
   "id": "e0ca152b-4f2b-4264-9a33-896f46af7e69",
   "metadata": {},
   "outputs": [
    {
     "name": "stdout",
     "output_type": "stream",
     "text": [
      "Title\n",
      "Mr              517\n",
      "Miss            182\n",
      "Mrs             125\n",
      "Master           40\n",
      "Dr                7\n",
      "Rev               6\n",
      "Mlle              2\n",
      "Major             2\n",
      "Col               2\n",
      "the Countess      1\n",
      "Capt              1\n",
      "Ms                1\n",
      "Sir               1\n",
      "Lady              1\n",
      "Mme               1\n",
      "Don               1\n",
      "Jonkheer          1\n",
      "Name: count, dtype: int64\n"
     ]
    }
   ],
   "source": [
    "# Extract Title from the Name column in df_cat\n",
    "df_cat['Title'] = df_cat['Name'].str.extract(r',\\s*([^\\.]*)\\.')\n",
    "# Check value counts of extracted titles\n",
    "print(df_cat['Title'].value_counts())"
   ]
  },
  {
   "cell_type": "markdown",
   "id": "e5e0f8d1-4efe-4bce-acd7-a91c9e92c57f",
   "metadata": {},
   "source": [
    "🔍 What is a Cross-tabulation (pd.crosstab)?\n",
    "\n",
    "A cross-tabulation is a table (matrix) that displays the frequency (count) of observations across combinations of two or more categorical variables. It’s extremely useful for summarizing categorical data and observing relationships or distributions."
   ]
  },
  {
   "cell_type": "code",
   "execution_count": 972,
   "id": "c9517919-e33d-485a-905c-2025e1c23064",
   "metadata": {},
   "outputs": [
    {
     "name": "stdout",
     "output_type": "stream",
     "text": [
      "Sex                             female  male\n",
      "Embarked Survived Title                     \n",
      "C        0        Don                0     1\n",
      "                  Dr                 0     1\n",
      "                  Miss               6     0\n",
      "                  Mr                 0    64\n",
      "                  Mrs                3     0\n",
      "         1        Col                0     1\n",
      "                  Dr                 0     1\n",
      "                  Lady               1     0\n",
      "                  Master             0     5\n",
      "                  Miss              32     0\n",
      "                  Mlle               2     0\n",
      "                  Mme                1     0\n",
      "                  Mr                 0    21\n",
      "                  Mrs               28     0\n",
      "                  Sir                0     1\n",
      "Q        0        Dr                 0     1\n",
      "                  Master             0     4\n",
      "                  Miss               7     0\n",
      "                  Mr                 0    32\n",
      "                  Mrs                2     0\n",
      "                  Rev                0     1\n",
      "         1        Miss              26     0\n",
      "                  Mr                 0     3\n",
      "                  Mrs                1     0\n",
      "S        0        Capt               0     1\n",
      "                  Col                0     1\n",
      "                  Dr                 0     2\n",
      "                  Jonkheer           0     1\n",
      "                  Major              0     1\n",
      "                  Master             0    13\n",
      "                  Miss              42     0\n",
      "                  Mr                 0   340\n",
      "                  Mrs               21     0\n",
      "                  Rev                0     5\n",
      "         1        Dr                 1     1\n",
      "                  Major              0     1\n",
      "                  Master             0    18\n",
      "                  Miss              69     0\n",
      "                  Mr                 0    57\n",
      "                  Mrs               70     0\n",
      "                  Ms                 1     0\n",
      "                  the Countess       1     0\n"
     ]
    }
   ],
   "source": [
    "# Cross-tabulation(Title vs Sex, grouped by Embarked)\n",
    "who_is_who = pd.crosstab(index=[df_cat1['Embarked'], df_cat1['Survived'], df_cat['Title']], columns=df_cat1['Sex'])\n",
    "print(who_is_who)"
   ]
  },
  {
   "cell_type": "code",
   "execution_count": 973,
   "id": "f8c2b923-c8c3-41eb-9e2b-f8fa6adfd9e1",
   "metadata": {},
   "outputs": [
    {
     "data": {
      "image/png": "[encoded data removed]",
      "text/plain": [
       "<Figure size 500x500 with 4 Axes>"
      ]
     },
     "metadata": {},
     "output_type": "display_data"
    }
   ],
   "source": [
    "import pandas as pd\n",
    "import matplotlib.pyplot as plt\n",
    "\n",
    "# Filter and group data for each combination\n",
    "female_survived = df_cat1[(df_cat1['Sex'] == 'female') & (df_cat1['Survived'] == 1)]['Embarked'].value_counts()\n",
    "female_not_survived = df_cat1[(df_cat1['Sex'] == 'female') & (df_cat1['Survived'] == 0)]['Embarked'].value_counts()\n",
    "male_survived = df_cat1[(df_cat1['Sex'] == 'male') & (df_cat1['Survived'] == 1)]['Embarked'].value_counts()\n",
    "male_not_survived = df_cat1[(df_cat1['Sex'] == 'male') & (df_cat1['Survived'] == 0)]['Embarked'].value_counts()\n",
    "\n",
    "# Create pie charts\n",
    "fig, axs = plt.subplots(2, 2, figsize=(5, 5))\n",
    "\n",
    "colors = ['#ff9999','#66b3ff','#99ff99']\n",
    "\n",
    "# Female Survived\n",
    "axs[0, 0].pie(female_survived, labels=female_survived.index, autopct='%1.1f%%',\n",
    "              startangle=140, colors=colors)\n",
    "axs[0, 0].set_title('Female - Survived')\n",
    "\n",
    "# Female Not Survived\n",
    "axs[0, 1].pie(female_not_survived, labels=female_not_survived.index, autopct='%1.1f%%',\n",
    "              startangle=140, colors=colors)\n",
    "axs[0, 1].set_title('Female - Not Survived')\n",
    "\n",
    "# Male Survived\n",
    "axs[1, 0].pie(male_survived, labels=male_survived.index, autopct='%1.1f%%',\n",
    "              startangle=140, colors=colors)\n",
    "axs[1, 0].set_title('Male - Survived')\n",
    "\n",
    "# Male Not Survived\n",
    "axs[1, 1].pie(male_not_survived, labels=male_not_survived.index, autopct='%1.1f%%',\n",
    "              startangle=140, colors=colors)\n",
    "axs[1, 1].set_title('Male - Not Survived')\n",
    "\n",
    "plt.tight_layout()\n",
    "plt.show()"
   ]
  },
  {
   "cell_type": "markdown",
   "id": "dd768975-760f-489a-80ca-5b032c65a891",
   "metadata": {},
   "source": [
    "A contingency table (cross-tabulation or crosstab)is a type of table in statistics that shows the frequency distribution of two categorical variables."
   ]
  },
  {
   "cell_type": "code",
   "execution_count": 974,
   "id": "77fec1a4-541d-4eb9-b61a-1f9acc3a0ae5",
   "metadata": {},
   "outputs": [
    {
     "data": {
      "image/png": "[encoded data removed]",
      "text/plain": [
       "<Figure size 200x200 with 1 Axes>"
      ]
     },
     "metadata": {},
     "output_type": "display_data"
    }
   ],
   "source": [
    "import seaborn as sns\n",
    "\n",
    "# Plotting the contingency table for 'Sex' vs 'Survived'\n",
    "contingency_sex = pd.crosstab(df['Sex'], df['Survived'])\n",
    "\n",
    "# Plot a heatmap\n",
    "plt.figure(figsize=(2, 2))\n",
    "sns.heatmap(contingency_sex, annot=True, fmt='d', cmap='Blues', cbar=False)\n",
    "plt.title('Heatmap of Contingency Table (Sex vs Survived)')\n",
    "plt.ylabel('Sex')\n",
    "plt.xlabel('Survived')\n",
    "plt.show()"
   ]
  },
  {
   "cell_type": "markdown",
   "id": "5a7cdd5b-44b1-4517-8979-e02067f7f86b",
   "metadata": {},
   "source": [
    "ENCODING \n",
    "----------"
   ]
  },
  {
   "cell_type": "code",
   "execution_count": 975,
   "id": "0b58b566-9ac0-4e07-a081-99e46f8c252f",
   "metadata": {},
   "outputs": [],
   "source": [
    "df_cat2= df[['Sex','Embarked']]"
   ]
  },
  {
   "cell_type": "code",
   "execution_count": 976,
   "id": "5ef047eb-a671-45ec-901b-dcd0573a658d",
   "metadata": {},
   "outputs": [],
   "source": [
    "from sklearn.preprocessing import OneHotEncoder"
   ]
  },
  {
   "cell_type": "code",
   "execution_count": 977,
   "id": "2fd5e0b0-821c-4e5f-b13d-ee92ceb1e42b",
   "metadata": {},
   "outputs": [
    {
     "data": {
      "text/plain": [
       "(891, 6)"
      ]
     },
     "execution_count": 977,
     "metadata": {},
     "output_type": "execute_result"
    }
   ],
   "source": [
    "encoder=OneHotEncoder(sparse_output=False,handle_unknown='ignore')\n",
    "encoded_array = encoder.fit_transform(df_cat2)\n",
    "encoded_df = pd.DataFrame(encoded_array, columns=encoder.get_feature_names_out(df_cat2.columns))\n",
    "encoded_df.shape"
   ]
  },
  {
   "cell_type": "code",
   "execution_count": 978,
   "id": "7b6307bb-d444-461a-8382-bb1ca140f8f9",
   "metadata": {},
   "outputs": [
    {
     "data": {
      "text/html": [
       "<div>\n",
       "<style scoped>\n",
       "    .dataframe tbody tr th:only-of-type {\n",
       "        vertical-align: middle;\n",
       "    }\n",
       "\n",
       "    .dataframe tbody tr th {\n",
       "        vertical-align: top;\n",
       "    }\n",
       "\n",
       "    .dataframe thead th {\n",
       "        text-align: right;\n",
       "    }\n",
       "</style>\n",
       "<table border=\"1\" class=\"dataframe\">\n",
       "  <thead>\n",
       "    <tr style=\"text-align: right;\">\n",
       "      <th></th>\n",
       "      <th>Sex_female</th>\n",
       "      <th>Sex_male</th>\n",
       "      <th>Embarked_C</th>\n",
       "      <th>Embarked_Q</th>\n",
       "      <th>Embarked_S</th>\n",
       "      <th>Embarked_nan</th>\n",
       "    </tr>\n",
       "  </thead>\n",
       "  <tbody>\n",
       "    <tr>\n",
       "      <th>0</th>\n",
       "      <td>0.0</td>\n",
       "      <td>1.0</td>\n",
       "      <td>0.0</td>\n",
       "      <td>0.0</td>\n",
       "      <td>1.0</td>\n",
       "      <td>0.0</td>\n",
       "    </tr>\n",
       "    <tr>\n",
       "      <th>1</th>\n",
       "      <td>1.0</td>\n",
       "      <td>0.0</td>\n",
       "      <td>1.0</td>\n",
       "      <td>0.0</td>\n",
       "      <td>0.0</td>\n",
       "      <td>0.0</td>\n",
       "    </tr>\n",
       "    <tr>\n",
       "      <th>2</th>\n",
       "      <td>1.0</td>\n",
       "      <td>0.0</td>\n",
       "      <td>0.0</td>\n",
       "      <td>0.0</td>\n",
       "      <td>1.0</td>\n",
       "      <td>0.0</td>\n",
       "    </tr>\n",
       "    <tr>\n",
       "      <th>3</th>\n",
       "      <td>1.0</td>\n",
       "      <td>0.0</td>\n",
       "      <td>0.0</td>\n",
       "      <td>0.0</td>\n",
       "      <td>1.0</td>\n",
       "      <td>0.0</td>\n",
       "    </tr>\n",
       "    <tr>\n",
       "      <th>4</th>\n",
       "      <td>0.0</td>\n",
       "      <td>1.0</td>\n",
       "      <td>0.0</td>\n",
       "      <td>0.0</td>\n",
       "      <td>1.0</td>\n",
       "      <td>0.0</td>\n",
       "    </tr>\n",
       "    <tr>\n",
       "      <th>...</th>\n",
       "      <td>...</td>\n",
       "      <td>...</td>\n",
       "      <td>...</td>\n",
       "      <td>...</td>\n",
       "      <td>...</td>\n",
       "      <td>...</td>\n",
       "    </tr>\n",
       "    <tr>\n",
       "      <th>886</th>\n",
       "      <td>0.0</td>\n",
       "      <td>1.0</td>\n",
       "      <td>0.0</td>\n",
       "      <td>0.0</td>\n",
       "      <td>1.0</td>\n",
       "      <td>0.0</td>\n",
       "    </tr>\n",
       "    <tr>\n",
       "      <th>887</th>\n",
       "      <td>1.0</td>\n",
       "      <td>0.0</td>\n",
       "      <td>0.0</td>\n",
       "      <td>0.0</td>\n",
       "      <td>1.0</td>\n",
       "      <td>0.0</td>\n",
       "    </tr>\n",
       "    <tr>\n",
       "      <th>888</th>\n",
       "      <td>1.0</td>\n",
       "      <td>0.0</td>\n",
       "      <td>0.0</td>\n",
       "      <td>0.0</td>\n",
       "      <td>1.0</td>\n",
       "      <td>0.0</td>\n",
       "    </tr>\n",
       "    <tr>\n",
       "      <th>889</th>\n",
       "      <td>0.0</td>\n",
       "      <td>1.0</td>\n",
       "      <td>1.0</td>\n",
       "      <td>0.0</td>\n",
       "      <td>0.0</td>\n",
       "      <td>0.0</td>\n",
       "    </tr>\n",
       "    <tr>\n",
       "      <th>890</th>\n",
       "      <td>0.0</td>\n",
       "      <td>1.0</td>\n",
       "      <td>0.0</td>\n",
       "      <td>1.0</td>\n",
       "      <td>0.0</td>\n",
       "      <td>0.0</td>\n",
       "    </tr>\n",
       "  </tbody>\n",
       "</table>\n",
       "<p>891 rows × 6 columns</p>\n",
       "</div>"
      ],
      "text/plain": [
       "     Sex_female  Sex_male  Embarked_C  Embarked_Q  Embarked_S  Embarked_nan\n",
       "0           0.0       1.0         0.0         0.0         1.0           0.0\n",
       "1           1.0       0.0         1.0         0.0         0.0           0.0\n",
       "2           1.0       0.0         0.0         0.0         1.0           0.0\n",
       "3           1.0       0.0         0.0         0.0         1.0           0.0\n",
       "4           0.0       1.0         0.0         0.0         1.0           0.0\n",
       "..          ...       ...         ...         ...         ...           ...\n",
       "886         0.0       1.0         0.0         0.0         1.0           0.0\n",
       "887         1.0       0.0         0.0         0.0         1.0           0.0\n",
       "888         1.0       0.0         0.0         0.0         1.0           0.0\n",
       "889         0.0       1.0         1.0         0.0         0.0           0.0\n",
       "890         0.0       1.0         0.0         1.0         0.0           0.0\n",
       "\n",
       "[891 rows x 6 columns]"
      ]
     },
     "execution_count": 978,
     "metadata": {},
     "output_type": "execute_result"
    }
   ],
   "source": [
    "encoded_df"
   ]
  },
  {
   "cell_type": "markdown",
   "id": "ec7e5e66-b79f-4e48-a199-7662f82e890c",
   "metadata": {},
   "source": [
    "MERGE\n",
    "-----"
   ]
  },
  {
   "cell_type": "code",
   "execution_count": 979,
   "id": "675a83b7-6b78-41ca-ae25-80906cc65ac4",
   "metadata": {},
   "outputs": [
    {
     "data": {
      "text/html": [
       "<div>\n",
       "<style scoped>\n",
       "    .dataframe tbody tr th:only-of-type {\n",
       "        vertical-align: middle;\n",
       "    }\n",
       "\n",
       "    .dataframe tbody tr th {\n",
       "        vertical-align: top;\n",
       "    }\n",
       "\n",
       "    .dataframe thead th {\n",
       "        text-align: right;\n",
       "    }\n",
       "</style>\n",
       "<table border=\"1\" class=\"dataframe\">\n",
       "  <thead>\n",
       "    <tr style=\"text-align: right;\">\n",
       "      <th></th>\n",
       "      <th>PassengerId</th>\n",
       "      <th>Survived</th>\n",
       "      <th>Pclass</th>\n",
       "      <th>Age</th>\n",
       "      <th>SibSp</th>\n",
       "      <th>Parch</th>\n",
       "      <th>Fare</th>\n",
       "      <th>Sex_female</th>\n",
       "      <th>Sex_male</th>\n",
       "      <th>Embarked_C</th>\n",
       "      <th>Embarked_Q</th>\n",
       "      <th>Embarked_S</th>\n",
       "      <th>Embarked_nan</th>\n",
       "    </tr>\n",
       "  </thead>\n",
       "  <tbody>\n",
       "    <tr>\n",
       "      <th>0</th>\n",
       "      <td>1</td>\n",
       "      <td>0</td>\n",
       "      <td>3</td>\n",
       "      <td>22.000000</td>\n",
       "      <td>1</td>\n",
       "      <td>0</td>\n",
       "      <td>-0.779117</td>\n",
       "      <td>0.0</td>\n",
       "      <td>1.0</td>\n",
       "      <td>0.0</td>\n",
       "      <td>0.0</td>\n",
       "      <td>1.0</td>\n",
       "      <td>0.0</td>\n",
       "    </tr>\n",
       "    <tr>\n",
       "      <th>2</th>\n",
       "      <td>3</td>\n",
       "      <td>1</td>\n",
       "      <td>3</td>\n",
       "      <td>26.000000</td>\n",
       "      <td>0</td>\n",
       "      <td>0</td>\n",
       "      <td>-0.729373</td>\n",
       "      <td>1.0</td>\n",
       "      <td>0.0</td>\n",
       "      <td>0.0</td>\n",
       "      <td>0.0</td>\n",
       "      <td>1.0</td>\n",
       "      <td>0.0</td>\n",
       "    </tr>\n",
       "    <tr>\n",
       "      <th>3</th>\n",
       "      <td>4</td>\n",
       "      <td>1</td>\n",
       "      <td>1</td>\n",
       "      <td>35.000000</td>\n",
       "      <td>1</td>\n",
       "      <td>0</td>\n",
       "      <td>2.599828</td>\n",
       "      <td>1.0</td>\n",
       "      <td>0.0</td>\n",
       "      <td>0.0</td>\n",
       "      <td>0.0</td>\n",
       "      <td>1.0</td>\n",
       "      <td>0.0</td>\n",
       "    </tr>\n",
       "    <tr>\n",
       "      <th>4</th>\n",
       "      <td>5</td>\n",
       "      <td>0</td>\n",
       "      <td>3</td>\n",
       "      <td>35.000000</td>\n",
       "      <td>0</td>\n",
       "      <td>0</td>\n",
       "      <td>-0.720161</td>\n",
       "      <td>0.0</td>\n",
       "      <td>1.0</td>\n",
       "      <td>0.0</td>\n",
       "      <td>0.0</td>\n",
       "      <td>1.0</td>\n",
       "      <td>0.0</td>\n",
       "    </tr>\n",
       "    <tr>\n",
       "      <th>5</th>\n",
       "      <td>6</td>\n",
       "      <td>0</td>\n",
       "      <td>3</td>\n",
       "      <td>29.699118</td>\n",
       "      <td>0</td>\n",
       "      <td>0</td>\n",
       "      <td>-0.690071</td>\n",
       "      <td>0.0</td>\n",
       "      <td>1.0</td>\n",
       "      <td>0.0</td>\n",
       "      <td>1.0</td>\n",
       "      <td>0.0</td>\n",
       "      <td>0.0</td>\n",
       "    </tr>\n",
       "    <tr>\n",
       "      <th>...</th>\n",
       "      <td>...</td>\n",
       "      <td>...</td>\n",
       "      <td>...</td>\n",
       "      <td>...</td>\n",
       "      <td>...</td>\n",
       "      <td>...</td>\n",
       "      <td>...</td>\n",
       "      <td>...</td>\n",
       "      <td>...</td>\n",
       "      <td>...</td>\n",
       "      <td>...</td>\n",
       "      <td>...</td>\n",
       "      <td>...</td>\n",
       "    </tr>\n",
       "    <tr>\n",
       "      <th>886</th>\n",
       "      <td>887</td>\n",
       "      <td>0</td>\n",
       "      <td>2</td>\n",
       "      <td>27.000000</td>\n",
       "      <td>0</td>\n",
       "      <td>0</td>\n",
       "      <td>-0.355367</td>\n",
       "      <td>0.0</td>\n",
       "      <td>1.0</td>\n",
       "      <td>0.0</td>\n",
       "      <td>0.0</td>\n",
       "      <td>1.0</td>\n",
       "      <td>0.0</td>\n",
       "    </tr>\n",
       "    <tr>\n",
       "      <th>887</th>\n",
       "      <td>888</td>\n",
       "      <td>1</td>\n",
       "      <td>1</td>\n",
       "      <td>19.000000</td>\n",
       "      <td>0</td>\n",
       "      <td>0</td>\n",
       "      <td>0.897459</td>\n",
       "      <td>1.0</td>\n",
       "      <td>0.0</td>\n",
       "      <td>0.0</td>\n",
       "      <td>0.0</td>\n",
       "      <td>1.0</td>\n",
       "      <td>0.0</td>\n",
       "    </tr>\n",
       "    <tr>\n",
       "      <th>888</th>\n",
       "      <td>889</td>\n",
       "      <td>0</td>\n",
       "      <td>3</td>\n",
       "      <td>29.699118</td>\n",
       "      <td>1</td>\n",
       "      <td>2</td>\n",
       "      <td>0.414752</td>\n",
       "      <td>1.0</td>\n",
       "      <td>0.0</td>\n",
       "      <td>0.0</td>\n",
       "      <td>0.0</td>\n",
       "      <td>1.0</td>\n",
       "      <td>0.0</td>\n",
       "    </tr>\n",
       "    <tr>\n",
       "      <th>889</th>\n",
       "      <td>890</td>\n",
       "      <td>1</td>\n",
       "      <td>1</td>\n",
       "      <td>26.000000</td>\n",
       "      <td>0</td>\n",
       "      <td>0</td>\n",
       "      <td>0.897459</td>\n",
       "      <td>0.0</td>\n",
       "      <td>1.0</td>\n",
       "      <td>1.0</td>\n",
       "      <td>0.0</td>\n",
       "      <td>0.0</td>\n",
       "      <td>0.0</td>\n",
       "    </tr>\n",
       "    <tr>\n",
       "      <th>890</th>\n",
       "      <td>891</td>\n",
       "      <td>0</td>\n",
       "      <td>3</td>\n",
       "      <td>32.000000</td>\n",
       "      <td>0</td>\n",
       "      <td>0</td>\n",
       "      <td>-0.742269</td>\n",
       "      <td>0.0</td>\n",
       "      <td>1.0</td>\n",
       "      <td>0.0</td>\n",
       "      <td>1.0</td>\n",
       "      <td>0.0</td>\n",
       "      <td>0.0</td>\n",
       "    </tr>\n",
       "  </tbody>\n",
       "</table>\n",
       "<p>775 rows × 13 columns</p>\n",
       "</div>"
      ],
      "text/plain": [
       "     PassengerId  Survived  Pclass        Age  SibSp  Parch      Fare  \\\n",
       "0              1         0       3  22.000000      1      0 -0.779117   \n",
       "2              3         1       3  26.000000      0      0 -0.729373   \n",
       "3              4         1       1  35.000000      1      0  2.599828   \n",
       "4              5         0       3  35.000000      0      0 -0.720161   \n",
       "5              6         0       3  29.699118      0      0 -0.690071   \n",
       "..           ...       ...     ...        ...    ...    ...       ...   \n",
       "886          887         0       2  27.000000      0      0 -0.355367   \n",
       "887          888         1       1  19.000000      0      0  0.897459   \n",
       "888          889         0       3  29.699118      1      2  0.414752   \n",
       "889          890         1       1  26.000000      0      0  0.897459   \n",
       "890          891         0       3  32.000000      0      0 -0.742269   \n",
       "\n",
       "     Sex_female  Sex_male  Embarked_C  Embarked_Q  Embarked_S  Embarked_nan  \n",
       "0           0.0       1.0         0.0         0.0         1.0           0.0  \n",
       "2           1.0       0.0         0.0         0.0         1.0           0.0  \n",
       "3           1.0       0.0         0.0         0.0         1.0           0.0  \n",
       "4           0.0       1.0         0.0         0.0         1.0           0.0  \n",
       "5           0.0       1.0         0.0         1.0         0.0           0.0  \n",
       "..          ...       ...         ...         ...         ...           ...  \n",
       "886         0.0       1.0         0.0         0.0         1.0           0.0  \n",
       "887         1.0       0.0         0.0         0.0         1.0           0.0  \n",
       "888         1.0       0.0         0.0         0.0         1.0           0.0  \n",
       "889         0.0       1.0         1.0         0.0         0.0           0.0  \n",
       "890         0.0       1.0         0.0         1.0         0.0           0.0  \n",
       "\n",
       "[775 rows x 13 columns]"
      ]
     },
     "execution_count": 979,
     "metadata": {},
     "output_type": "execute_result"
    }
   ],
   "source": [
    "#merge\n",
    "df_final_cat=encoded_df.loc[df_no_outliers.index,:]\n",
    "final_df=pd.concat([df_standard_scaled,df_final_cat],axis=1)\n",
    "final_df"
   ]
  },
  {
   "cell_type": "code",
   "execution_count": 980,
   "id": "3aa2c91e-6486-45a3-acdb-0d319fdc47af",
   "metadata": {},
   "outputs": [
    {
     "data": {
      "text/plain": [
       "Index(['PassengerId', 'Survived', 'Pclass', 'Age', 'SibSp', 'Parch', 'Fare',\n",
       "       'Sex_female', 'Sex_male', 'Embarked_C', 'Embarked_Q', 'Embarked_S',\n",
       "       'Embarked_nan'],\n",
       "      dtype='object')"
      ]
     },
     "execution_count": 980,
     "metadata": {},
     "output_type": "execute_result"
    }
   ],
   "source": [
    "final_df.columns"
   ]
  },
  {
   "cell_type": "code",
   "execution_count": 981,
   "id": "5931ffcb-0c75-4e61-9c8e-1cf38de5613f",
   "metadata": {},
   "outputs": [],
   "source": [
    "def decode_embarked(row):\n",
    "    if row['Embarked_C'] == 1:\n",
    "        return 'C'\n",
    "    elif row['Embarked_Q'] == 1:\n",
    "        return 'Q'\n",
    "    elif row['Embarked_S'] == 1:\n",
    "        return 'S'\n",
    "    else:\n",
    "        return 'Unknown'\n",
    "\n",
    "def decode_sex(row):\n",
    "    if row['Sex_female'] == 1:\n",
    "        return 'female'\n",
    "    elif row['Sex_male'] == 1:\n",
    "        return 'male'\n",
    "    else:\n",
    "        return 'Unknown'\n",
    "\n",
    "# Create new columns\n",
    "final_df['Embarked'] = final_df.apply(decode_embarked, axis=1)\n",
    "final_df['Sex'] = final_df.apply(decode_sex, axis=1)"
   ]
  },
  {
   "cell_type": "code",
   "execution_count": 982,
   "id": "9a1744bd-1cb6-4915-87ad-1639647a9452",
   "metadata": {},
   "outputs": [
    {
     "data": {
      "image/png": "[encoded data removed]",
      "text/plain": [
       "<Figure size 640x480 with 1 Axes>"
      ]
     },
     "metadata": {},
     "output_type": "display_data"
    }
   ],
   "source": [
    "import seaborn as sns\n",
    "import matplotlib.pyplot as plt\n",
    "\n",
    "# Create bar plot\n",
    "sns.barplot(data=final_df, x='Embarked', y='Survived', hue='Sex')\n",
    "plt.title('Survival Rate by Sex and Embarked')\n",
    "plt.ylabel('Survival Rate')\n",
    "plt.xlabel('Embarked Point')\n",
    "plt.legend(title='Sex')\n",
    "plt.tight_layout()\n",
    "plt.show()\n"
   ]
  },
  {
   "cell_type": "markdown",
   "id": "484468f0-8226-4f4e-8e43-d8efcf559992",
   "metadata": {},
   "source": [
    "Input and Target variables\n",
    "--------------------------"
   ]
  },
  {
   "cell_type": "code",
   "execution_count": 983,
   "id": "eb850cfb-fd22-4eb6-b386-689f35bf694c",
   "metadata": {},
   "outputs": [],
   "source": [
    "X = final_df.drop('Survived', axis=1)\n",
    "y = final_df['Survived']"
   ]
  },
  {
   "cell_type": "code",
   "execution_count": 984,
   "id": "07b0cbd0-0051-429d-a08c-4d8f58f4f18a",
   "metadata": {},
   "outputs": [
    {
     "data": {
      "text/plain": [
       "Index(['PassengerId', 'Pclass', 'Age', 'SibSp', 'Parch', 'Fare', 'Sex_female',\n",
       "       'Sex_male', 'Embarked_C', 'Embarked_Q', 'Embarked_S', 'Embarked_nan',\n",
       "       'Embarked', 'Sex'],\n",
       "      dtype='object')"
      ]
     },
     "execution_count": 984,
     "metadata": {},
     "output_type": "execute_result"
    }
   ],
   "source": [
    "X.columns   # independent and input variable"
   ]
  },
  {
   "cell_type": "code",
   "execution_count": 985,
   "id": "7e9a2c71-1077-49d7-ae2d-dd151ba536cd",
   "metadata": {},
   "outputs": [
    {
     "data": {
      "text/plain": [
       "0      0\n",
       "2      1\n",
       "3      1\n",
       "4      0\n",
       "5      0\n",
       "      ..\n",
       "886    0\n",
       "887    1\n",
       "888    0\n",
       "889    1\n",
       "890    0\n",
       "Name: Survived, Length: 775, dtype: int64"
      ]
     },
     "execution_count": 985,
     "metadata": {},
     "output_type": "execute_result"
    }
   ],
   "source": [
    "y  # dependent and Target variables"
   ]
  },
  {
   "cell_type": "code",
   "execution_count": 986,
   "id": "9eccfb63-3704-46fe-be6a-9d7708d7fb61",
   "metadata": {},
   "outputs": [
    {
     "data": {
      "text/plain": [
       "'Survived'"
      ]
     },
     "execution_count": 986,
     "metadata": {},
     "output_type": "execute_result"
    }
   ],
   "source": [
    "y.name"
   ]
  },
  {
   "cell_type": "code",
   "execution_count": 987,
   "id": "87ab43dd-2d3b-41b5-b2b4-4b01e80dcf12",
   "metadata": {},
   "outputs": [],
   "source": [
    "import pandas as pd\n",
    "from sklearn.model_selection import train_test_split\n",
    "from sklearn.linear_model import LogisticRegression"
   ]
  },
  {
   "cell_type": "code",
   "execution_count": 988,
   "id": "11dcb6ae-a41d-4234-bc32-e85ff596e5bf",
   "metadata": {},
   "outputs": [],
   "source": [
    "df = df.drop(['Name', 'Ticket', 'Cabin', 'Age'], axis=1, errors='ignore') #These columns are either non-numeric or have missing data or are less useful for your model.\n",
    "\n",
    "df_encoded = pd.get_dummies(df, columns=['Sex', 'Embarked'], drop_first=True)# Sex and Embarked are categorical, so you use one-hot encoding to convert them into numeric columns.\n",
    "\n",
    "y = df_encoded['Survived']\n",
    "X = df_encoded.drop('Survived', axis=1)\n",
    "\n",
    "X_train, X_test, y_train, y_test = train_test_split(X, y, test_size=0.2, random_state=42) #Train-Test Split"
   ]
  },
  {
   "cell_type": "markdown",
   "id": "5e260093-1fdd-42b0-ac11-792df73b216c",
   "metadata": {},
   "source": [
    "Logistic Regression:\n",
    "--------------------\n",
    "A simple statistical model used for binary classification that estimates the probability of an outcome (like survived/not survived) using a logistic function."
   ]
  },
  {
   "cell_type": "raw",
   "id": "073af48d-8ab1-4733-ae50-89b5e462d10f",
   "metadata": {},
   "source": [
    " Training Logistic Regression Model"
   ]
  },
  {
   "cell_type": "code",
   "execution_count": 989,
   "id": "19e89457-88f1-4bdd-b7c4-c2257b9f1388",
   "metadata": {},
   "outputs": [
    {
     "data": {
      "text/html": [
       "<style>#sk-container-id-10 {\n",
       "  /* Definition of color scheme common for light and dark mode */\n",
       "  --sklearn-color-text: #000;\n",
       "  --sklearn-color-text-muted: #666;\n",
       "  --sklearn-color-line: gray;\n",
       "  /* Definition of color scheme for unfitted estimators */\n",
       "  --sklearn-color-unfitted-level-0: #fff5e6;\n",
       "  --sklearn-color-unfitted-level-1: #f6e4d2;\n",
       "  --sklearn-color-unfitted-level-2: #ffe0b3;\n",
       "  --sklearn-color-unfitted-level-3: chocolate;\n",
       "  /* Definition of color scheme for fitted estimators */\n",
       "  --sklearn-color-fitted-level-0: #f0f8ff;\n",
       "  --sklearn-color-fitted-level-1: #d4ebff;\n",
       "  --sklearn-color-fitted-level-2: #b3dbfd;\n",
       "  --sklearn-color-fitted-level-3: cornflowerblue;\n",
       "\n",
       "  /* Specific color for light theme */\n",
       "  --sklearn-color-text-on-default-background: var(--sg-text-color, var(--theme-code-foreground, var(--jp-content-font-color1, black)));\n",
       "  --sklearn-color-background: var(--sg-background-color, var(--theme-background, var(--jp-layout-color0, white)));\n",
       "  --sklearn-color-border-box: var(--sg-text-color, var(--theme-code-foreground, var(--jp-content-font-color1, black)));\n",
       "  --sklearn-color-icon: #696969;\n",
       "\n",
       "  @media (prefers-color-scheme: dark) {\n",
       "    /* Redefinition of color scheme for dark theme */\n",
       "    --sklearn-color-text-on-default-background: var(--sg-text-color, var(--theme-code-foreground, var(--jp-content-font-color1, white)));\n",
       "    --sklearn-color-background: var(--sg-background-color, var(--theme-background, var(--jp-layout-color0, #111)));\n",
       "    --sklearn-color-border-box: var(--sg-text-color, var(--theme-code-foreground, var(--jp-content-font-color1, white)));\n",
       "    --sklearn-color-icon: #878787;\n",
       "  }\n",
       "}\n",
       "\n",
       "#sk-container-id-10 {\n",
       "  color: var(--sklearn-color-text);\n",
       "}\n",
       "\n",
       "#sk-container-id-10 pre {\n",
       "  padding: 0;\n",
       "}\n",
       "\n",
       "#sk-container-id-10 input.sk-hidden--visually {\n",
       "  border: 0;\n",
       "  clip: rect(1px 1px 1px 1px);\n",
       "  clip: rect(1px, 1px, 1px, 1px);\n",
       "  height: 1px;\n",
       "  margin: -1px;\n",
       "  overflow: hidden;\n",
       "  padding: 0;\n",
       "  position: absolute;\n",
       "  width: 1px;\n",
       "}\n",
       "\n",
       "#sk-container-id-10 div.sk-dashed-wrapped {\n",
       "  border: 1px dashed var(--sklearn-color-line);\n",
       "  margin: 0 0.4em 0.5em 0.4em;\n",
       "  box-sizing: border-box;\n",
       "  padding-bottom: 0.4em;\n",
       "  background-color: var(--sklearn-color-background);\n",
       "}\n",
       "\n",
       "#sk-container-id-10 div.sk-container {\n",
       "  /* jupyter's `normalize.less` sets `[hidden] { display: none; }`\n",
       "     but bootstrap.min.css set `[hidden] { display: none !important; }`\n",
       "     so we also need the `!important` here to be able to override the\n",
       "     default hidden behavior on the sphinx rendered scikit-learn.org.\n",
       "     See: https://github.com/scikit-learn/scikit-learn/issues/21755 */\n",
       "  display: inline-block !important;\n",
       "  position: relative;\n",
       "}\n",
       "\n",
       "#sk-container-id-10 div.sk-text-repr-fallback {\n",
       "  display: none;\n",
       "}\n",
       "\n",
       "div.sk-parallel-item,\n",
       "div.sk-serial,\n",
       "div.sk-item {\n",
       "  /* draw centered vertical line to link estimators */\n",
       "  background-image: linear-gradient(var(--sklearn-color-text-on-default-background), var(--sklearn-color-text-on-default-background));\n",
       "  background-size: 2px 100%;\n",
       "  background-repeat: no-repeat;\n",
       "  background-position: center center;\n",
       "}\n",
       "\n",
       "/* Parallel-specific style estimator block */\n",
       "\n",
       "#sk-container-id-10 div.sk-parallel-item::after {\n",
       "  content: \"\";\n",
       "  width: 100%;\n",
       "  border-bottom: 2px solid var(--sklearn-color-text-on-default-background);\n",
       "  flex-grow: 1;\n",
       "}\n",
       "\n",
       "#sk-container-id-10 div.sk-parallel {\n",
       "  display: flex;\n",
       "  align-items: stretch;\n",
       "  justify-content: center;\n",
       "  background-color: var(--sklearn-color-background);\n",
       "  position: relative;\n",
       "}\n",
       "\n",
       "#sk-container-id-10 div.sk-parallel-item {\n",
       "  display: flex;\n",
       "  flex-direction: column;\n",
       "}\n",
       "\n",
       "#sk-container-id-10 div.sk-parallel-item:first-child::after {\n",
       "  align-self: flex-end;\n",
       "  width: 50%;\n",
       "}\n",
       "\n",
       "#sk-container-id-10 div.sk-parallel-item:last-child::after {\n",
       "  align-self: flex-start;\n",
       "  width: 50%;\n",
       "}\n",
       "\n",
       "#sk-container-id-10 div.sk-parallel-item:only-child::after {\n",
       "  width: 0;\n",
       "}\n",
       "\n",
       "/* Serial-specific style estimator block */\n",
       "\n",
       "#sk-container-id-10 div.sk-serial {\n",
       "  display: flex;\n",
       "  flex-direction: column;\n",
       "  align-items: center;\n",
       "  background-color: var(--sklearn-color-background);\n",
       "  padding-right: 1em;\n",
       "  padding-left: 1em;\n",
       "}\n",
       "\n",
       "\n",
       "/* Toggleable style: style used for estimator/Pipeline/ColumnTransformer box that is\n",
       "clickable and can be expanded/collapsed.\n",
       "- Pipeline and ColumnTransformer use this feature and define the default style\n",
       "- Estimators will overwrite some part of the style using the `sk-estimator` class\n",
       "*/\n",
       "\n",
       "/* Pipeline and ColumnTransformer style (default) */\n",
       "\n",
       "#sk-container-id-10 div.sk-toggleable {\n",
       "  /* Default theme specific background. It is overwritten whether we have a\n",
       "  specific estimator or a Pipeline/ColumnTransformer */\n",
       "  background-color: var(--sklearn-color-background);\n",
       "}\n",
       "\n",
       "/* Toggleable label */\n",
       "#sk-container-id-10 label.sk-toggleable__label {\n",
       "  cursor: pointer;\n",
       "  display: flex;\n",
       "  width: 100%;\n",
       "  margin-bottom: 0;\n",
       "  padding: 0.5em;\n",
       "  box-sizing: border-box;\n",
       "  text-align: center;\n",
       "  align-items: start;\n",
       "  justify-content: space-between;\n",
       "  gap: 0.5em;\n",
       "}\n",
       "\n",
       "#sk-container-id-10 label.sk-toggleable__label .caption {\n",
       "  font-size: 0.6rem;\n",
       "  font-weight: lighter;\n",
       "  color: var(--sklearn-color-text-muted);\n",
       "}\n",
       "\n",
       "#sk-container-id-10 label.sk-toggleable__label-arrow:before {\n",
       "  /* Arrow on the left of the label */\n",
       "  content: \"▸\";\n",
       "  float: left;\n",
       "  margin-right: 0.25em;\n",
       "  color: var(--sklearn-color-icon);\n",
       "}\n",
       "\n",
       "#sk-container-id-10 label.sk-toggleable__label-arrow:hover:before {\n",
       "  color: var(--sklearn-color-text);\n",
       "}\n",
       "\n",
       "/* Toggleable content - dropdown */\n",
       "\n",
       "#sk-container-id-10 div.sk-toggleable__content {\n",
       "  max-height: 0;\n",
       "  max-width: 0;\n",
       "  overflow: hidden;\n",
       "  text-align: left;\n",
       "  /* unfitted */\n",
       "  background-color: var(--sklearn-color-unfitted-level-0);\n",
       "}\n",
       "\n",
       "#sk-container-id-10 div.sk-toggleable__content.fitted {\n",
       "  /* fitted */\n",
       "  background-color: var(--sklearn-color-fitted-level-0);\n",
       "}\n",
       "\n",
       "#sk-container-id-10 div.sk-toggleable__content pre {\n",
       "  margin: 0.2em;\n",
       "  border-radius: 0.25em;\n",
       "  color: var(--sklearn-color-text);\n",
       "  /* unfitted */\n",
       "  background-color: var(--sklearn-color-unfitted-level-0);\n",
       "}\n",
       "\n",
       "#sk-container-id-10 div.sk-toggleable__content.fitted pre {\n",
       "  /* unfitted */\n",
       "  background-color: var(--sklearn-color-fitted-level-0);\n",
       "}\n",
       "\n",
       "#sk-container-id-10 input.sk-toggleable__control:checked~div.sk-toggleable__content {\n",
       "  /* Expand drop-down */\n",
       "  max-height: 200px;\n",
       "  max-width: 100%;\n",
       "  overflow: auto;\n",
       "}\n",
       "\n",
       "#sk-container-id-10 input.sk-toggleable__control:checked~label.sk-toggleable__label-arrow:before {\n",
       "  content: \"▾\";\n",
       "}\n",
       "\n",
       "/* Pipeline/ColumnTransformer-specific style */\n",
       "\n",
       "#sk-container-id-10 div.sk-label input.sk-toggleable__control:checked~label.sk-toggleable__label {\n",
       "  color: var(--sklearn-color-text);\n",
       "  background-color: var(--sklearn-color-unfitted-level-2);\n",
       "}\n",
       "\n",
       "#sk-container-id-10 div.sk-label.fitted input.sk-toggleable__control:checked~label.sk-toggleable__label {\n",
       "  background-color: var(--sklearn-color-fitted-level-2);\n",
       "}\n",
       "\n",
       "/* Estimator-specific style */\n",
       "\n",
       "/* Colorize estimator box */\n",
       "#sk-container-id-10 div.sk-estimator input.sk-toggleable__control:checked~label.sk-toggleable__label {\n",
       "  /* unfitted */\n",
       "  background-color: var(--sklearn-color-unfitted-level-2);\n",
       "}\n",
       "\n",
       "#sk-container-id-10 div.sk-estimator.fitted input.sk-toggleable__control:checked~label.sk-toggleable__label {\n",
       "  /* fitted */\n",
       "  background-color: var(--sklearn-color-fitted-level-2);\n",
       "}\n",
       "\n",
       "#sk-container-id-10 div.sk-label label.sk-toggleable__label,\n",
       "#sk-container-id-10 div.sk-label label {\n",
       "  /* The background is the default theme color */\n",
       "  color: var(--sklearn-color-text-on-default-background);\n",
       "}\n",
       "\n",
       "/* On hover, darken the color of the background */\n",
       "#sk-container-id-10 div.sk-label:hover label.sk-toggleable__label {\n",
       "  color: var(--sklearn-color-text);\n",
       "  background-color: var(--sklearn-color-unfitted-level-2);\n",
       "}\n",
       "\n",
       "/* Label box, darken color on hover, fitted */\n",
       "#sk-container-id-10 div.sk-label.fitted:hover label.sk-toggleable__label.fitted {\n",
       "  color: var(--sklearn-color-text);\n",
       "  background-color: var(--sklearn-color-fitted-level-2);\n",
       "}\n",
       "\n",
       "/* Estimator label */\n",
       "\n",
       "#sk-container-id-10 div.sk-label label {\n",
       "  font-family: monospace;\n",
       "  font-weight: bold;\n",
       "  display: inline-block;\n",
       "  line-height: 1.2em;\n",
       "}\n",
       "\n",
       "#sk-container-id-10 div.sk-label-container {\n",
       "  text-align: center;\n",
       "}\n",
       "\n",
       "/* Estimator-specific */\n",
       "#sk-container-id-10 div.sk-estimator {\n",
       "  font-family: monospace;\n",
       "  border: 1px dotted var(--sklearn-color-border-box);\n",
       "  border-radius: 0.25em;\n",
       "  box-sizing: border-box;\n",
       "  margin-bottom: 0.5em;\n",
       "  /* unfitted */\n",
       "  background-color: var(--sklearn-color-unfitted-level-0);\n",
       "}\n",
       "\n",
       "#sk-container-id-10 div.sk-estimator.fitted {\n",
       "  /* fitted */\n",
       "  background-color: var(--sklearn-color-fitted-level-0);\n",
       "}\n",
       "\n",
       "/* on hover */\n",
       "#sk-container-id-10 div.sk-estimator:hover {\n",
       "  /* unfitted */\n",
       "  background-color: var(--sklearn-color-unfitted-level-2);\n",
       "}\n",
       "\n",
       "#sk-container-id-10 div.sk-estimator.fitted:hover {\n",
       "  /* fitted */\n",
       "  background-color: var(--sklearn-color-fitted-level-2);\n",
       "}\n",
       "\n",
       "/* Specification for estimator info (e.g. \"i\" and \"?\") */\n",
       "\n",
       "/* Common style for \"i\" and \"?\" */\n",
       "\n",
       ".sk-estimator-doc-link,\n",
       "a:link.sk-estimator-doc-link,\n",
       "a:visited.sk-estimator-doc-link {\n",
       "  float: right;\n",
       "  font-size: smaller;\n",
       "  line-height: 1em;\n",
       "  font-family: monospace;\n",
       "  background-color: var(--sklearn-color-background);\n",
       "  border-radius: 1em;\n",
       "  height: 1em;\n",
       "  width: 1em;\n",
       "  text-decoration: none !important;\n",
       "  margin-left: 0.5em;\n",
       "  text-align: center;\n",
       "  /* unfitted */\n",
       "  border: var(--sklearn-color-unfitted-level-1) 1pt solid;\n",
       "  color: var(--sklearn-color-unfitted-level-1);\n",
       "}\n",
       "\n",
       ".sk-estimator-doc-link.fitted,\n",
       "a:link.sk-estimator-doc-link.fitted,\n",
       "a:visited.sk-estimator-doc-link.fitted {\n",
       "  /* fitted */\n",
       "  border: var(--sklearn-color-fitted-level-1) 1pt solid;\n",
       "  color: var(--sklearn-color-fitted-level-1);\n",
       "}\n",
       "\n",
       "/* On hover */\n",
       "div.sk-estimator:hover .sk-estimator-doc-link:hover,\n",
       ".sk-estimator-doc-link:hover,\n",
       "div.sk-label-container:hover .sk-estimator-doc-link:hover,\n",
       ".sk-estimator-doc-link:hover {\n",
       "  /* unfitted */\n",
       "  background-color: var(--sklearn-color-unfitted-level-3);\n",
       "  color: var(--sklearn-color-background);\n",
       "  text-decoration: none;\n",
       "}\n",
       "\n",
       "div.sk-estimator.fitted:hover .sk-estimator-doc-link.fitted:hover,\n",
       ".sk-estimator-doc-link.fitted:hover,\n",
       "div.sk-label-container:hover .sk-estimator-doc-link.fitted:hover,\n",
       ".sk-estimator-doc-link.fitted:hover {\n",
       "  /* fitted */\n",
       "  background-color: var(--sklearn-color-fitted-level-3);\n",
       "  color: var(--sklearn-color-background);\n",
       "  text-decoration: none;\n",
       "}\n",
       "\n",
       "/* Span, style for the box shown on hovering the info icon */\n",
       ".sk-estimator-doc-link span {\n",
       "  display: none;\n",
       "  z-index: 9999;\n",
       "  position: relative;\n",
       "  font-weight: normal;\n",
       "  right: .2ex;\n",
       "  padding: .5ex;\n",
       "  margin: .5ex;\n",
       "  width: min-content;\n",
       "  min-width: 20ex;\n",
       "  max-width: 50ex;\n",
       "  color: var(--sklearn-color-text);\n",
       "  box-shadow: 2pt 2pt 4pt #999;\n",
       "  /* unfitted */\n",
       "  background: var(--sklearn-color-unfitted-level-0);\n",
       "  border: .5pt solid var(--sklearn-color-unfitted-level-3);\n",
       "}\n",
       "\n",
       ".sk-estimator-doc-link.fitted span {\n",
       "  /* fitted */\n",
       "  background: var(--sklearn-color-fitted-level-0);\n",
       "  border: var(--sklearn-color-fitted-level-3);\n",
       "}\n",
       "\n",
       ".sk-estimator-doc-link:hover span {\n",
       "  display: block;\n",
       "}\n",
       "\n",
       "/* \"?\"-specific style due to the `<a>` HTML tag */\n",
       "\n",
       "#sk-container-id-10 a.estimator_doc_link {\n",
       "  float: right;\n",
       "  font-size: 1rem;\n",
       "  line-height: 1em;\n",
       "  font-family: monospace;\n",
       "  background-color: var(--sklearn-color-background);\n",
       "  border-radius: 1rem;\n",
       "  height: 1rem;\n",
       "  width: 1rem;\n",
       "  text-decoration: none;\n",
       "  /* unfitted */\n",
       "  color: var(--sklearn-color-unfitted-level-1);\n",
       "  border: var(--sklearn-color-unfitted-level-1) 1pt solid;\n",
       "}\n",
       "\n",
       "#sk-container-id-10 a.estimator_doc_link.fitted {\n",
       "  /* fitted */\n",
       "  border: var(--sklearn-color-fitted-level-1) 1pt solid;\n",
       "  color: var(--sklearn-color-fitted-level-1);\n",
       "}\n",
       "\n",
       "/* On hover */\n",
       "#sk-container-id-10 a.estimator_doc_link:hover {\n",
       "  /* unfitted */\n",
       "  background-color: var(--sklearn-color-unfitted-level-3);\n",
       "  color: var(--sklearn-color-background);\n",
       "  text-decoration: none;\n",
       "}\n",
       "\n",
       "#sk-container-id-10 a.estimator_doc_link.fitted:hover {\n",
       "  /* fitted */\n",
       "  background-color: var(--sklearn-color-fitted-level-3);\n",
       "}\n",
       "</style><div id=\"sk-container-id-10\" class=\"sk-top-container\"><div class=\"sk-text-repr-fallback\"><pre>LogisticRegression(max_iter=1000)</pre><b>In a Jupyter environment, please rerun this cell to show the HTML representation or trust the notebook. <br />On GitHub, the HTML representation is unable to render, please try loading this page with nbviewer.org.</b></div><div class=\"sk-container\" hidden><div class=\"sk-item\"><div class=\"sk-estimator fitted sk-toggleable\"><input class=\"sk-toggleable__control sk-hidden--visually\" id=\"sk-estimator-id-10\" type=\"checkbox\" checked><label for=\"sk-estimator-id-10\" class=\"sk-toggleable__label fitted sk-toggleable__label-arrow\"><div><div>LogisticRegression</div></div><div><a class=\"sk-estimator-doc-link fitted\" rel=\"noreferrer\" target=\"_blank\" href=\"https://scikit-learn.org/1.6/modules/generated/sklearn.linear_model.LogisticRegression.html\">?<span>Documentation for LogisticRegression</span></a><span class=\"sk-estimator-doc-link fitted\">i<span>Fitted</span></span></div></label><div class=\"sk-toggleable__content fitted\"><pre>LogisticRegression(max_iter=1000)</pre></div> </div></div></div></div>"
      ],
      "text/plain": [
       "LogisticRegression(max_iter=1000)"
      ]
     },
     "execution_count": 989,
     "metadata": {},
     "output_type": "execute_result"
    }
   ],
   "source": [
    "#  Training Logistic Regression Model\n",
    "model = LogisticRegression(max_iter=1000) #For every iteration (up to 1000),  where the model learns and adjusts to improve predictions.\n",
    "                                          #the model tries to adjust its parameters (like weights) to better predict whether a passenger survived or not.\n",
    "model.fit(X_train, y_train)  # “Train the model using the data you give.”"
   ]
  },
  {
   "cell_type": "code",
   "execution_count": 990,
   "id": "847a0cb9-98fa-4675-8bfa-af2224b12779",
   "metadata": {},
   "outputs": [
    {
     "data": {
      "text/plain": [
       "0.8089887640449438"
      ]
     },
     "execution_count": 990,
     "metadata": {},
     "output_type": "execute_result"
    }
   ],
   "source": [
    "model.score(X_train, y_train)  #It tells you how well your model learned during training."
   ]
  },
  {
   "cell_type": "raw",
   "id": "461c3242-1e52-4b2a-9c19-10e0c4a50d93",
   "metadata": {},
   "source": [
    "Accuracy Score  |\t What It Means\t          |       Comment\n",
    "---------------------------------------------------------------------------------------\n",
    "0.90 – 1.00\t    |    Excellent\t              |  Model is very accurate\n",
    "0.80 – 0.89\t    |     Good\t                  |  Model is doing well\n",
    "0.70 – 0.79     |\tAcceptable / Decent       |  Okay, but may need improvements\n",
    "0.60 – 0.69\t    |    Poor\t                  |  Not great; model is often wrong\n",
    "< 0.60\t        |  Very Poor / Bad\t          | Model is guessing too much or untrained"
   ]
  },
  {
   "cell_type": "markdown",
   "id": "1b12fcf9-0242-4cb1-8898-cb17aa19dcbe",
   "metadata": {},
   "source": [
    "Decision Tree:\n",
    "---------------\n",
    "A flowchart-like model that splits data into branches based on feature values to make predictions, easy to interpret but can overfit."
   ]
  },
  {
   "cell_type": "code",
   "execution_count": 991,
   "id": "d524c9f8-9c4b-41c5-ba23-2763c891a773",
   "metadata": {},
   "outputs": [],
   "source": [
    "from sklearn.tree import DecisionTreeClassifier"
   ]
  },
  {
   "cell_type": "code",
   "execution_count": 992,
   "id": "6567f6dc-ad1b-456e-aa26-4b24551a9bc0",
   "metadata": {},
   "outputs": [],
   "source": [
    "DecTree=DecisionTreeClassifier()  #  creating a new decision tree model for regression # using it to train (fit) on data and make predictions."
   ]
  },
  {
   "cell_type": "code",
   "execution_count": 993,
   "id": "d548cd8c-f10e-4167-9937-2f8ac36a729f",
   "metadata": {},
   "outputs": [],
   "source": [
    "dt_M=DecTree.fit(X_train,y_train)  #training  #teaching your decision tree model using your training data."
   ]
  },
  {
   "cell_type": "code",
   "execution_count": 994,
   "id": "5b0b6ba7-551a-474c-92f0-dde66930c225",
   "metadata": {},
   "outputs": [
    {
     "data": {
      "text/plain": [
       "1.0"
      ]
     },
     "execution_count": 994,
     "metadata": {},
     "output_type": "execute_result"
    }
   ],
   "source": [
    "dt_M.score(X_train,y_train)   #returns the accuracy (percentage of correct predictions)."
   ]
  },
  {
   "cell_type": "markdown",
   "id": "51ec2c9d-364e-46e0-9b7f-10206c391992",
   "metadata": {},
   "source": [
    "Random Forest:\n",
    "--------------\n",
    "An ensemble of many decision trees where each tree votes for the final prediction, improving accuracy and reducing overfitting."
   ]
  },
  {
   "cell_type": "code",
   "execution_count": 995,
   "id": "1cb39352-60c6-4719-9dd0-e0f7e3950cf0",
   "metadata": {},
   "outputs": [],
   "source": [
    "from sklearn.ensemble import RandomForestClassifier"
   ]
  },
  {
   "cell_type": "code",
   "execution_count": 996,
   "id": "c35168b1-80f7-4618-9536-b218c0b9518f",
   "metadata": {},
   "outputs": [],
   "source": [
    "RandFor=RandomForestClassifier(n_estimators=5000) #You are building a \"forest\" of 5000 decision trees to help make predictions by averaging their results."
   ]
  },
  {
   "cell_type": "code",
   "execution_count": 997,
   "id": "c7f6e9f4-82c6-4aea-8df4-71a5e5f33b0e",
   "metadata": {},
   "outputs": [],
   "source": [
    "rf_M=RandFor.fit(X_train,y_train)  #training"
   ]
  },
  {
   "cell_type": "code",
   "execution_count": 998,
   "id": "476242e3-6f10-407a-b1c1-2d2a049136bd",
   "metadata": {},
   "outputs": [
    {
     "data": {
      "text/plain": [
       "1.0"
      ]
     },
     "execution_count": 998,
     "metadata": {},
     "output_type": "execute_result"
    }
   ],
   "source": [
    "rf_M.score(X_train,y_train)"
   ]
  },
  {
   "cell_type": "markdown",
   "id": "6561d5c7-2cd7-4f6a-9545-99c7e80d2293",
   "metadata": {},
   "source": [
    "|             | Model Performance |      Meaning                   |\n",
    "| ----------- | ----------------- | ------------------------------ |\n",
    "| 0.90 - 1.0  | Excellent         | Model predicts very accurately |\n",
    "| 0.70 - 0.89 | Good              | Model is doing well            |\n",
    "| 0.50 - 0.69 | Moderate          | Model is okay, some errors     |\n",
    "| 0.30 - 0.49 | Poor              | Model misses quite a bit       |\n",
    "| < 0.30      | Very Poor         | Model predictions are weak     |"
   ]
  },
  {
   "cell_type": "markdown",
   "id": "9ed9b492-3c39-4e09-b125-a5e1daaefef6",
   "metadata": {},
   "source": [
    "Boosting:\n",
    "---------\n",
    "Boosting is an ensemble learning technique used to convert weak learners into strong learners.\n",
    "It does this by training models sequentially, each one trying to correct the errors of the previous one."
   ]
  },
  {
   "cell_type": "markdown",
   "id": "ac7eebf5-6f30-4a02-8083-cae2b28d0ab0",
   "metadata": {},
   "source": [
    "AdaBoost Classifier:\n",
    "--------------------\n",
    "AdaBoost (Adaptive Boosting)\n",
    "Adjusts weights of misclassified instances.\n",
    "Uses exponential loss function.\n",
    "Suitable for binary classification.\n",
    "Base learners are often decision stumps."
   ]
  },
  {
   "cell_type": "markdown",
   "id": "e1fc061b-81a5-4b84-ac85-df7c1bc7c5de",
   "metadata": {},
   "source": [
    "The score ranges from 0 to 1 (sometimes can be negative if very bad).\n",
    "Closer to 1 means the model explains most of the variation in the target.\n",
    "Closer to 0 means the model doesn’t explain much."
   ]
  },
  {
   "cell_type": "markdown",
   "id": "497eeeb8-ec74-4b7b-935a-a6508f3ce563",
   "metadata": {},
   "source": [
    "GradientBoosting Classifier:\n",
    "---------------------------\n",
    "Adjusts weights of misclassified instances.\n",
    "Uses exponential loss function.\n",
    "Suitable for binary classification.\n",
    "Base learners are often decision stumps."
   ]
  },
  {
   "cell_type": "markdown",
   "id": "f5500b29-563c-4dfd-a0b2-376d3f4f1c93",
   "metadata": {},
   "source": [
    "XGB Classifier:\n",
    "--------------\n",
    "Learners are added sequentially to minimize a loss function.\n",
    "Uses gradient descent to optimize.\n",
    "More flexible than AdaBoost.\n",
    "Can use different loss functions (log loss, MSE, etc.)."
   ]
  },
  {
   "cell_type": "code",
   "execution_count": 999,
   "id": "29a2d2ac-81ac-4253-95c4-d32d85d938f2",
   "metadata": {},
   "outputs": [
    {
     "name": "stdout",
     "output_type": "stream",
     "text": [
      "rf_training_score: 1.0\n",
      "rf_testing_score: 0.8044692737430168\n"
     ]
    }
   ],
   "source": [
    "from sklearn.ensemble import RandomForestClassifier\n",
    "from sklearn.metrics import accuracy_score\n",
    "\n",
    "# Model initialization\n",
    "RandFor = RandomForestClassifier(n_estimators=500)\n",
    "\n",
    "# Model training\n",
    "rf = RandFor.fit(X_train, y_train)\n",
    "\n",
    "# Training score\n",
    "training_score_rf = rf.score(X_train, y_train)\n",
    "print(\"rf_training_score:\", training_score_rf)\n",
    "\n",
    "# Prediction\n",
    "y_pred_rf = rf.predict(X_test)\n",
    "\n",
    "# Evaluation\n",
    "testing_score_rf = accuracy_score(y_test, y_pred_rf)\n",
    "print(\"rf_testing_score:\", testing_score_rf)\n"
   ]
  },
  {
   "cell_type": "code",
   "execution_count": 1000,
   "id": "0a1da789-376f-4802-88a5-646f31c58871",
   "metadata": {},
   "outputs": [
    {
     "name": "stdout",
     "output_type": "stream",
     "text": [
      "gbm_training_score: 0.9719101123595506\n",
      "gbm_testing_score: 0.7988826815642458\n"
     ]
    }
   ],
   "source": [
    "from sklearn.ensemble import GradientBoostingClassifier\n",
    "from sklearn.metrics import accuracy_score\n",
    "\n",
    "# Model initialization\n",
    "GBM = GradientBoostingClassifier(n_estimators=300)\n",
    "\n",
    "# Model training\n",
    "gbm = GBM.fit(X_train, y_train)\n",
    "\n",
    "# Training score\n",
    "training_score_gbm = gbm.score(X_train, y_train)\n",
    "print(\"gbm_training_score:\", training_score_gbm)\n",
    "\n",
    "# Prediction\n",
    "y_pred_gbm = gbm.predict(X_test)\n",
    "\n",
    "# Evaluation\n",
    "testing_score_gbm = accuracy_score(y_test, y_pred_gbm)\n",
    "print(\"gbm_testing_score:\", testing_score_gbm)"
   ]
  },
  {
   "cell_type": "markdown",
   "id": "5518e719-5ff5-4199-99e6-29534b1c88e5",
   "metadata": {},
   "source": [
    "Metrics\n",
    "-------"
   ]
  },
  {
   "cell_type": "markdown",
   "id": "1984aca9-d6a5-4f6d-b044-d27645bd0eeb",
   "metadata": {},
   "source": [
    "| **Metric**               | **Formula**                                                                                           | **Why It's Important**                                          |\n",
    "| ------------------------ | ----------------------------------------------------------------------------------------------------- | --------------------------------------------------------------- |\n",
    "| **Accuracy**             | $\\text{Accuracy} = \\frac{TP + TN}{TP + TN + FP + FN}$                                                 | Quick overall performance check                                 |\n",
    "| **Precision**            | $\\text{Precision} = \\frac{TP}{TP + FP}$                                                               | Avoids false alarms — useful if acting on predictions is costly |\n",
    "| **Recall** (Sensitivity) | $\\text{Recall} = \\frac{TP}{TP + FN}$                                                                  | Catches as many actual positives (e.g., survivors) as possible  |\n",
    "| **F1-score**             | $\\text{F1} = 2 \\times \\frac{\\text{Precision} \\times \\text{Recall}}{\\text{Precision} + \\text{Recall}}$ | Balances precision and recall — ideal for imbalanced data       |\n",
    "| **Confusion Matrix**     | $\\begin{bmatrix} TP & FP \\\\ FN & TN \\end{bmatrix}$                                                    | Visual and interpretable overview of model behavior             |\n"
   ]
  },
  {
   "cell_type": "code",
   "execution_count": 1001,
   "id": "36aeb8e8-f2c4-413d-8fcf-3f2a6814176d",
   "metadata": {},
   "outputs": [],
   "source": [
    "from sklearn.metrics import accuracy_score, precision_score, recall_score, f1_score, confusion_matrix, classification_report\n",
    "import seaborn as sns\n",
    "import matplotlib.pyplot as plt"
   ]
  },
  {
   "cell_type": "code",
   "execution_count": 1002,
   "id": "fef0ee13-5c0e-40da-99e3-f2868292a66a",
   "metadata": {},
   "outputs": [],
   "source": [
    "# Example: Evaluate on Logistic Regression\n",
    "# Predict\n",
    "y_pred = model.predict(X_test)"
   ]
  },
  {
   "cell_type": "code",
   "execution_count": 1003,
   "id": "76946368-b1f5-40bb-83d7-c2ff6d7bb608",
   "metadata": {},
   "outputs": [
    {
     "name": "stdout",
     "output_type": "stream",
     "text": [
      "Accuracy: 0.776536312849162\n",
      "Precision: 0.7361111111111112\n",
      "Recall: 0.7162162162162162\n",
      "F1 Score: 0.726027397260274\n"
     ]
    }
   ],
   "source": [
    "# Metrics\n",
    "print(\"Accuracy:\", accuracy_score(y_test, y_pred))\n",
    "print(\"Precision:\", precision_score(y_test, y_pred))\n",
    "print(\"Recall:\", recall_score(y_test, y_pred))\n",
    "print(\"F1 Score:\", f1_score(y_test, y_pred))"
   ]
  },
  {
   "cell_type": "code",
   "execution_count": 1004,
   "id": "bf774f69-9b11-4576-84cc-b5abde7fbfc0",
   "metadata": {},
   "outputs": [],
   "source": [
    "# Confusion Matrix\n",
    "cm = confusion_matrix(y_test, y_pred)"
   ]
  },
  {
   "cell_type": "markdown",
   "id": "446ffee6-c2ff-4746-a0bf-988e65d48063",
   "metadata": {},
   "source": [
    "|  Confusion Matrix       m      | **Predicted: Survived (1)** | **Predicted: Not Survived (0)** |\n",
    "| -------------------------------| --------------------------- | ------------------------------- |\n",
    "| **Actual: Survived (1)**       |     True Positive (TP)      |      False Negative (FN)        |\n",
    "| **Actual: Not Survived (0)**   |     False Positive (FP)     |      True Negative (TN)         |"
   ]
  },
  {
   "cell_type": "code",
   "execution_count": 1005,
   "id": "c21b6d18-b4bf-40dd-a280-5a073b71c22a",
   "metadata": {},
   "outputs": [
    {
     "data": {
      "image/png": "[encoded data removed]",
      "text/plain": [
       "<Figure size 300x300 with 2 Axes>"
      ]
     },
     "metadata": {},
     "output_type": "display_data"
    }
   ],
   "source": [
    "# Plot Confusion Matrix\n",
    "plt.figure(figsize=(3, 3))\n",
    "sns.heatmap(cm, annot=True, fmt='d', cmap='Blues', xticklabels=[\"Not Survived\", \"Survived\"], yticklabels=[\"Not Survived\", \"Survived\"])\n",
    "plt.xlabel(\"Predicted\")\n",
    "plt.ylabel(\"Actual\")\n",
    "plt.title(\"Confusion Matrix\")\n",
    "plt.tight_layout()\n",
    "plt.show()"
   ]
  },
  {
   "cell_type": "markdown",
   "id": "ac8183ce-b3a1-428d-bcb6-742d66fec277",
   "metadata": {},
   "source": [
    "| Metric / Method  | Why It Matters                                                   |\n",
    "| ---------------- | ---------------------------------------------------------------- |\n",
    "| ROC Curve + AUC  | Measures model’s discrimination across all thresholds            |\n",
    "| Log Loss         | Measures confidence/calibration of predicted probabilities       |\n",
    "| Cross-Validation | More reliable, stable performance estimates over multiple splits |\n"
   ]
  },
  {
   "cell_type": "code",
   "execution_count": 1006,
   "id": "a6a322c3-516e-41fb-bcd4-b90ed63e5b4d",
   "metadata": {},
   "outputs": [],
   "source": [
    "from sklearn.metrics import roc_curve, auc, log_loss\n",
    "from sklearn.model_selection import cross_val_score, StratifiedKFold\n",
    "import matplotlib.pyplot as plt\n",
    "import numpy as np"
   ]
  },
  {
   "cell_type": "code",
   "execution_count": 1007,
   "id": "0f7dbf93-3eb0-4bc6-950d-fe37c03a70c8",
   "metadata": {},
   "outputs": [
    {
     "data": {
      "image/png": "[encoded data removed]",
      "text/plain": [
       "<Figure size 600x600 with 1 Axes>"
      ]
     },
     "metadata": {},
     "output_type": "display_data"
    },
    {
     "name": "stdout",
     "output_type": "stream",
     "text": [
      "AUC: 0.8497\n"
     ]
    }
   ],
   "source": [
    "# Assuming model is already trained: model.fit(X_train, y_train)\n",
    "\n",
    "# 1. ROC Curve and AUC\n",
    "y_probs = model.predict_proba(X_test)[:, 1]  # Probability estimates for the positive class\n",
    "fpr, tpr, thresholds = roc_curve(y_test, y_probs)\n",
    "roc_auc = auc(fpr, tpr)\n",
    "\n",
    "plt.figure(figsize=(6,6))\n",
    "plt.plot(fpr, tpr, color='blue', label=f'ROC curve (AUC = {roc_auc:.2f})')\n",
    "plt.plot([0,1], [0,1], color='red', linestyle='--')\n",
    "plt.xlabel('False Positive Rate')\n",
    "plt.ylabel('True Positive Rate')\n",
    "plt.title('ROC Curve')\n",
    "plt.legend(loc='lower right')\n",
    "plt.show()\n",
    "\n",
    "print(f'AUC: {roc_auc:.4f}')"
   ]
  },
  {
   "cell_type": "code",
   "execution_count": 1008,
   "id": "514814da-572f-4e4b-ad6a-e9872359a64b",
   "metadata": {},
   "outputs": [
    {
     "name": "stdout",
     "output_type": "stream",
     "text": [
      "Log Loss: 0.4533\n"
     ]
    }
   ],
   "source": [
    "# 2. Log Loss\n",
    "y_pred_probs = model.predict_proba(X_test)\n",
    "logloss = log_loss(y_test, y_pred_probs)\n",
    "print(f'Log Loss: {logloss:.4f}')"
   ]
  },
  {
   "cell_type": "code",
   "execution_count": 1009,
   "id": "eefe7ee7-ce63-46d1-b5eb-ae04b7107edf",
   "metadata": {},
   "outputs": [
    {
     "name": "stdout",
     "output_type": "stream",
     "text": [
      "Cross-Validation Accuracy Scores: [0.76536313 0.7752809  0.79775281 0.78089888 0.82022472]\n",
      "Mean CV Accuracy: 0.7879\n"
     ]
    }
   ],
   "source": [
    "# 3. Cross-Validation Scores (using StratifiedKFold for balanced splits)\n",
    "cv = StratifiedKFold(n_splits=5, shuffle=True, random_state=42)\n",
    "cv_scores = cross_val_score(model, X, y, cv=cv, scoring='accuracy')\n",
    "print(f'Cross-Validation Accuracy Scores: {cv_scores}')\n",
    "print(f'Mean CV Accuracy: {np.mean(cv_scores):.4f}')"
   ]
  },
  {
   "cell_type": "code",
   "execution_count": 1010,
   "id": "026bf52f-b52c-448d-8f54-d84ac1a249eb",
   "metadata": {},
   "outputs": [
    {
     "name": "stdout",
     "output_type": "stream",
     "text": [
      "\n",
      "Classification Report:\n",
      "\n",
      "              precision    recall  f1-score   support\n",
      "\n",
      "Not Survived       0.80      0.82      0.81       105\n",
      "    Survived       0.74      0.72      0.73        74\n",
      "\n",
      "    accuracy                           0.78       179\n",
      "   macro avg       0.77      0.77      0.77       179\n",
      "weighted avg       0.78      0.78      0.78       179\n",
      "\n"
     ]
    }
   ],
   "source": [
    "# Detailed Classification Report (Optional)\n",
    "print(\"\\nClassification Report:\\n\")\n",
    "print(classification_report(y_test, y_pred, target_names=[\"Not Survived\", \"Survived\"]))\n"
   ]
  },
  {
   "cell_type": "code",
   "execution_count": 1011,
   "id": "e03457c8-3975-40ba-b452-a7e39ac707bd",
   "metadata": {},
   "outputs": [],
   "source": [
    "import os\n",
    "os.environ['GIT_PYTHON_REFRESH']='quiet'\n",
    "os.environ['MLFLOW_TRACKING_URI']='file:///C:/Users/NEELAM SUSHMITHA/Downloads/MLopsTitanic'"
   ]
  },
  {
   "cell_type": "code",
   "execution_count": 1012,
   "id": "3bbb8bdf-fcf4-4da1-848b-982462c3d5ae",
   "metadata": {},
   "outputs": [],
   "source": [
    "X = final_df.drop(['Survived'], axis=1)\n",
    "y = final_df['Survived']"
   ]
  },
  {
   "cell_type": "code",
   "execution_count": 1013,
   "id": "5b7b442b-ee8d-4a26-82c2-fd9a11a9af22",
   "metadata": {},
   "outputs": [],
   "source": [
    "from sklearn.model_selection import train_test_split\n",
    "X_train,X_test,y_train,y_test=train_test_split(X,y,test_size=0.3,random_state=50,stratify=y)"
   ]
  },
  {
   "cell_type": "code",
   "execution_count": 1014,
   "id": "3cff50bc-5294-4a4b-9cba-32165a90fc49",
   "metadata": {},
   "outputs": [],
   "source": [
    "import mlflow"
   ]
  },
  {
   "cell_type": "code",
   "execution_count": 1015,
   "id": "46e4f49d-14c7-482c-974f-af86de4a797a",
   "metadata": {},
   "outputs": [],
   "source": [
    "mlflow.set_experiment(\"Titanic-default-analysis\")\n",
    "mlflow.set_experiment_tag('Titanic-def-tag','ex1')"
   ]
  },
  {
   "cell_type": "code",
   "execution_count": 1016,
   "id": "77ffe414-8896-40fe-b7de-f37f126e5d62",
   "metadata": {},
   "outputs": [],
   "source": [
    "# Step 1: One-hot encode categorical variables in X\n",
    "X_encoded = pd.get_dummies(X, drop_first=True)\n",
    "\n",
    "# Step 2: Train-test split (if not already done)\n",
    "from sklearn.model_selection import train_test_split\n",
    "X_train, X_test, y_train, y_test = train_test_split(X_encoded, y, test_size=0.2, random_state=42)\n",
    "\n",
    "# Step 3: Fit models (no change needed here)\n",
    "RandFor = RandomForestClassifier(n_estimators=5000, max_depth=6)\n",
    "rf = RandFor.fit(X_train, y_train)"
   ]
  },
  {
   "cell_type": "code",
   "execution_count": 1017,
   "id": "b578a7e4-5938-43b2-bb31-67dd5536899e",
   "metadata": {},
   "outputs": [
    {
     "name": "stderr",
     "output_type": "stream",
     "text": [
      "2025/05/23 10:33:59 WARNING mlflow.models.model: Model logged without a signature and input example. Please set `input_example` parameter when logging the model to auto infer the model signature.\n",
      "2025/05/23 10:34:08 WARNING mlflow.models.model: Model logged without a signature and input example. Please set `input_example` parameter when logging the model to auto infer the model signature.\n"
     ]
    }
   ],
   "source": [
    "with mlflow.start_run():    \n",
    "    from sklearn.ensemble import RandomForestClassifier\n",
    "    from sklearn.ensemble import GradientBoostingClassifier\n",
    "    from sklearn.metrics import r2_score,accuracy_score\n",
    "    \n",
    "    # model object initialization\n",
    "    RandFor=RandomForestClassifier(n_estimators=5000,max_depth=6)\n",
    "    GBM=GradientBoostingClassifier(n_estimators=3000,max_depth=6,learning_rate=0.01,min_samples_split=5)\n",
    "    rf_n_estimators=5000\n",
    "    #logging parameters\n",
    "    mlflow.log_param(\"n_estimators\",rf_n_estimators)\n",
    "    mlflow.log_param('rf_max_depth',6)\n",
    "    mlflow.log_param('gbm_n_estimators',3000)\n",
    "    mlflow.log_param('gbm_max_depth',6)\n",
    "    mlflow.log_param('gbm_learning_rate',0.01)\n",
    "    mlflow.log_param('gbm_minimum_samples_split',5)\n",
    "    \n",
    "    #training models\n",
    "    rf=RandFor.fit(X_train,y_train)\n",
    "    gbm=GBM.fit(X_train,y_train)\n",
    "    \n",
    "    #training scores\n",
    "    training_score_rf=RandFor.score(X_train,y_train)\n",
    "    training_score_gbm=GBM.score(X_train,y_train)\n",
    "    \n",
    "    #logging training score\n",
    "    mlflow.log_metric(\"rf_training_score\", training_score_rf)\n",
    "    mlflow.log_metric(\"gbm_training_score\",training_score_gbm)\n",
    "    \n",
    "    #value predictions\n",
    "    y_pred_rf=rf.predict(X_test)\n",
    "    y_pred_gbm=gbm.predict(X_test)\n",
    "    \n",
    "    #prediction evaluations\n",
    "    testing_score_rf=accuracy_score(y_pred_rf,y_test)\n",
    "    testing_score_gbm=accuracy_score(y_pred_gbm,y_test)\n",
    "    \n",
    "    #logging evaluation scores\n",
    "    mlflow.log_metric(\"rf_testing_score\", testing_score_rf)\n",
    "    mlflow.log_metric(\"gbm_testing_score\",testing_score_gbm)\n",
    "    \n",
    "    #logging models\n",
    "    mlflow.sklearn.log_model(rf, \"random-forest-model\")\n",
    "    mlflow.sklearn.log_model(gbm, \"gradient-boosting-model\")\n",
    "    mlflow.set_tag(\"iteration_name\", \"test_rf_gb_sklearn\")\n",
    "    mlflow.set_tag(\"feature_set_version\", \"Titanic default\")"
   ]
  },
  {
   "cell_type": "code",
   "execution_count": 1019,
   "id": "9226406d-1969-4741-8443-8b7bc037b972",
   "metadata": {},
   "outputs": [],
   "source": [
    "#port setting at 8002 for random-forest-model"
   ]
  },
  {
   "cell_type": "code",
   "execution_count": 1018,
   "id": "68de29a0-cafe-4a61-b493-815ec718023f",
   "metadata": {},
   "outputs": [
    {
     "name": "stdout",
     "output_type": "stream",
     "text": [
      "{'predictions': [0, 0, 1, 0, 0, 0, 0, 1, 1, 0, 1, 0, 0, 0, 0, 0, 0, 0, 0, 0, 0, 0, 0, 1, 0, 0, 0, 0, 1, 0, 0, 0, 1, 0, 1, 0, 0, 0, 0, 0, 0, 0, 0, 0, 0, 0, 0, 0, 1, 0, 1, 1, 0, 0, 0, 0, 0, 0, 0, 0, 0, 0, 1, 0, 0, 0, 0, 0, 0, 0, 0, 1, 0, 0, 0, 0, 0, 0, 1, 0, 0, 0, 0, 0, 1, 1, 1, 0, 1, 0, 0, 1, 0, 0, 0, 1, 0, 1, 0, 0, 0, 0, 1, 0, 0, 0, 0, 0, 0, 1, 1, 1, 0, 0, 0, 0, 0, 0, 0, 0, 0, 1, 0, 1, 0, 0, 0, 1, 1, 1, 0, 1, 0, 1, 0, 0, 0, 1, 0, 1, 0, 0, 1, 0, 1, 0, 1, 1, 0, 0, 0, 0, 1, 0, 1]}\n"
     ]
    }
   ],
   "source": [
    "import requests\n",
    "import json\n",
    "\n",
    "#data = {\"columns\": iris.feature_names, \"data\": [[6.1, 2.8, 4.7, 1.2]]}\n",
    "data = {'dataframe_records': X_test.values.tolist()}\n",
    "headers = {\"Content-Type\": \"application/json\"}\n",
    "\n",
    "response = requests.post(\"http://localhost:8002/invocations\", data=json.dumps(data), headers=headers)\n",
    "predictions = response.json()\n",
    "\n",
    "print(predictions)"
   ]
  },
  {
   "cell_type": "code",
   "execution_count": null,
   "id": "90db7a42-6e6f-4979-a8fe-878176efed27",
   "metadata": {},
   "outputs": [],
   "source": []
  }
 ],
 "metadata": {
  "kernelspec": {
   "display_name": "Python 3 (ipykernel)",
   "language": "python",
   "name": "python3"
  },
  "language_info": {
   "codemirror_mode": {
    "name": "ipython",
    "version": 3
   },
   "file_extension": ".py",
   "mimetype": "text/x-python",
   "name": "python",
   "nbconvert_exporter": "python",
   "pygments_lexer": "ipython3",
   "version": "3.12.4"
  }
 },
 "nbformat": 4,
 "nbformat_minor": 5
}
